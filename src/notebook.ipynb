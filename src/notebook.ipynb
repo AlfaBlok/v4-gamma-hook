{
 "cells": [
  {
   "cell_type": "code",
   "execution_count": 1,
   "metadata": {},
   "outputs": [],
   "source": [
    "from models.v2_pool import UniswapV2Pool\n",
    "from models.v4_gamma_pool import v4_gamma_hook_pool\n",
    "from models.buy_and_hold import BuyAndHold\n",
    "from utils.clean import sweep_swap_amount_range, get_symbol, get_xy_fig, get_bh_df\n",
    "import plotly.express as px\n",
    "import pandas as pd\n",
    "import numpy as np  \n",
    "import plotly.graph_objects as go\n"
   ]
  },
  {
   "cell_type": "code",
   "execution_count": null,
   "metadata": {},
   "outputs": [],
   "source": [
    "parameters = {\n",
    "    'fee_pct': 0.003, # Example: 30% fee for clear effect in plot ONLY AFFECT V2POOL with FEE   \n",
    "    'initial_x': float(100), # 1 hunded USDC\n",
    "    'initial_y': float(1),   # 1 ARB\n",
    "    'num_points': 1000, # Number of relative amounts to test\n",
    "    'max_relative_amount': 2, # Test swaps with amount_in up to 5x of reserve\n",
    "    'gamma_factor': 0.3 # 30% gamma factor for clear effect in plot ONLY AFFECT V4 GAMMA POOL with GEE\n",
    "}\n",
    "\n",
    "v2_pool_0_fee = UniswapV2Pool(parameters, is_zero_fee=True)\n",
    "v2_swap_sweep_results_0_fee_df = sweep_swap_amount_range(v2_pool_0_fee,parameters)\n",
    "v2_swap_sweep_results_0_fee_df['O_R']=0\n",
    "\n",
    "# Calculate 'O_R' using vectorized operations with np.where\n",
    "condition = v2_swap_sweep_results_0_fee_df['token_in_is_USDC'] == True\n",
    "value_if_true = v2_swap_sweep_results_0_fee_df['amount_out'] / v2_swap_sweep_results_0_fee_df['new_y']\n",
    "value_if_false = v2_swap_sweep_results_0_fee_df['amount_in'] / v2_swap_sweep_results_0_fee_df['new_y']\n",
    "\n",
    "v2_swap_sweep_results_0_fee_df['O_R'] = np.where(condition, value_if_true, value_if_false)\n",
    "\n",
    "\n",
    "fig = get_xy_fig(v2_swap_sweep_results_0_fee_df,'O_R','IL_O', 'OrderSize to Reseve vs IL to OrderSize','Order pct of Reserve','IL pct of Order')\n",
    "fig.update_layout(\n",
    "    xaxis_range=[0, 1],\n",
    "    yaxis_range=[0, 1]\n",
    ")\n",
    "fig.show()"
   ]
  },
  {
   "cell_type": "code",
   "execution_count": 3,
   "metadata": {},
   "outputs": [],
   "source": [
    "\n",
    "\n",
    "\n",
    "v2_pool_0_fee = UniswapV2Pool(parameters, is_zero_fee=True)\n",
    "v2_swap_sweep_results_0_fee_df = sweep_swap_amount_range(v2_pool_0_fee,parameters)\n",
    "\n",
    "v2_pool_flat_fee = UniswapV2Pool(parameters, is_zero_fee=False)\n",
    "v2_swap_sweep_results_f_fee_df = sweep_swap_amount_range(v2_pool_flat_fee,parameters)\n",
    "\n",
    "v4_gamma_hook_pool_0_gamma = v4_gamma_hook_pool(parameters, is_zero_gee=True)\n",
    "v4_gamma_hook_sweep_results_0_gee_gamma_df = sweep_swap_amount_range(v4_gamma_hook_pool_0_gamma,parameters)\n",
    "\n",
    "v4_gamma_hook_pool_gamma = v4_gamma_hook_pool(parameters, is_zero_gee=False)\n",
    "v4_gamma_hook_sweep_results_g_gee_gamma_df = sweep_swap_amount_range(v4_gamma_hook_pool_gamma,parameters)\n",
    "\n",
    "buy_and_hold = BuyAndHold(parameters)\n",
    "buy_and_hold_df = get_bh_df(buy_and_hold, v2_swap_sweep_results_0_fee_df)\n",
    "\n",
    "\n",
    "\n",
    "joint_df = pd.concat([\n",
    "    v2_swap_sweep_results_0_fee_df, \n",
    "    v2_swap_sweep_results_f_fee_df, \n",
    "    v4_gamma_hook_sweep_results_0_gee_gamma_df, \n",
    "    v4_gamma_hook_sweep_results_g_gee_gamma_df, \n",
    "    buy_and_hold_df])\n"
   ]
  },
  {
   "cell_type": "code",
   "execution_count": null,
   "metadata": {},
   "outputs": [],
   "source": [
    "fig = get_xy_fig(joint_df, 'new_price', 'lp_value', 'LP Value vs. New Price (1 swap)', 'ARB Price ($)', 'Holder Value ($)')\n",
    "fig.update_layout(\n",
    "    xaxis_range=[0, 300],\n",
    "    yaxis_range=[0, 400]\n",
    ")\n",
    "\n",
    "fig.show()"
   ]
  },
  {
   "cell_type": "code",
   "execution_count": null,
   "metadata": {},
   "outputs": [],
   "source": [
    "# this plot requires for very extreme max_relative amount to reveal iteself fully - please adjust parameters and increase max_relative amount and num_points to see the full plot. Leaving defaults \n",
    "fig = get_xy_fig(joint_df, 'new_x', 'new_y', 'XY for 1 swap', 'new_x', 'new_y')    \n",
    "\n",
    "fig.update_layout(\n",
    "    yaxis_range=[0, 100],\n",
    "    xaxis_range=[0, 100]\n",
    ")\n",
    "\n",
    "fig.show()"
   ]
  },
  {
   "cell_type": "markdown",
   "metadata": {},
   "source": [
    "### Now we look at how the Gamma of each scenario behaves\n"
   ]
  },
  {
   "cell_type": "code",
   "execution_count": null,
   "metadata": {},
   "outputs": [],
   "source": [
    "fig = get_xy_fig(joint_df, 'new_price', 'gamma', 'Gamma vs. Price', 'ARB Price ($)', 'Gamma')\n",
    "\n",
    "fig.update_layout(\n",
    "    yaxis_range=[-0.001, 0.001]\n",
    ")\n",
    "fig.show()\n",
    "\n",
    "\n",
    "\n",
    "\n"
   ]
  },
  {
   "cell_type": "code",
   "execution_count": null,
   "metadata": {},
   "outputs": [],
   "source": [
    "fig = get_xy_fig(joint_df, 'new_price', 'delta', 'Delta vs. New Price', 'ARB Price ($)', 'delta')\n",
    "\n",
    "fig.update_layout(\n",
    "    yaxis_range=[-1, 3],\n",
    "    xaxis_range=[0, 200]\n",
    ")\n",
    "\n",
    "fig.show()"
   ]
  },
  {
   "cell_type": "code",
   "execution_count": null,
   "metadata": {},
   "outputs": [],
   "source": [
    "fig = get_xy_fig(joint_df, 'order_size_usdc', 'swap_price', 'Order Size vs Price', 'Order Size (USDC)', 'Price ARB ($)')\n",
    "\n",
    "fig.update_layout(\n",
    "    yaxis_range=[0, 300],\n",
    "    xaxis_range=[-100, 100]\n",
    ")\n",
    "\n",
    "fig.show()"
   ]
  },
  {
   "cell_type": "code",
   "execution_count": null,
   "metadata": {},
   "outputs": [],
   "source": [
    "fig = get_xy_fig(joint_df, 'order_size_usdc', 'impermanent_loss_usdc', 'Order Size vs Impermanent Loss', 'Order Size (USDC)', 'Impermanent Loss ($)')\n",
    "\n",
    "fig.update_layout(\n",
    "    yaxis_range=[-100, 100]\n",
    ")\n",
    "\n",
    "fig.show()"
   ]
  },
  {
   "cell_type": "code",
   "execution_count": null,
   "metadata": {},
   "outputs": [],
   "source": [
    "fig = get_xy_fig(joint_df, 'new_price', 'impermanent_loss_usdc', 'Price vs Impermanent Loss', 'Price ARB ($)', 'Impermanent Loss ($)')\n",
    "\n",
    "fig.update_layout(\n",
    "    yaxis_range=[-100, 100],\n",
    "    xaxis_range=[0, 200]\n",
    ")\n",
    "\n",
    "fig.show()"
   ]
  },
  {
   "cell_type": "code",
   "execution_count": null,
   "metadata": {},
   "outputs": [],
   "source": [
    "fig = get_xy_fig(joint_df, 'relative_amount_in', 'impermanent_loss_usdc', 'Relative Amount vs Impermanent Loss', 'Relative Amount (Order Size / Reserve)', 'Impermanent Loss ($)')\n",
    "\n",
    "fig.update_layout(\n",
    "    yaxis_range=[-100, 100]\n",
    ")\n",
    "\n",
    "fig.show()"
   ]
  },
  {
   "cell_type": "code",
   "execution_count": null,
   "metadata": {},
   "outputs": [],
   "source": [
    "fig = get_xy_fig(joint_df, 'relative_amount_in', 'total_fee_pct', 'Fee pct on incoming order', 'Relative Amount (Order Size / Reserve)', 'Fee pct')\n",
    "\n",
    "fig.update_layout(\n",
    "    xaxis_range=[-1, 1],\n",
    "    yaxis_range=[-1, 1]\n",
    ")\n",
    "\n",
    "fig.show()"
   ]
  },
  {
   "cell_type": "markdown",
   "metadata": {},
   "source": [
    "### SIMULATION TRADES\n"
   ]
  },
  {
   "cell_type": "code",
   "execution_count": 3,
   "metadata": {},
   "outputs": [],
   "source": [
    "from utils.clean import generate_arb_trades, generate_usdc_trades, simulate_trade_sequence, get_3_plots, get_xy_fig\n",
    "from models.v2_pool import UniswapV2Pool\n",
    "from models.v4_gamma_pool import v4_gamma_hook_pool\n",
    "from utils.clean import run_simulation \n",
    "import pandas as pd\n",
    "\n",
    "parameters = {\n",
    "    'num_trades_to_simulate': 15000, # Or use the desired number\n",
    "    'fee_pct': 0.003, # Using 30% fee for clear effect in plot ONLY AFFECT V2POOL with FEE\n",
    "    'initial_x': 100,  # 100 USDC\n",
    "    'initial_y': 100,   # 100 ARB (as starting point, 1 ARB worth 1 USDC for easy math and same scale visuals)\n",
    "    'gamma_factor': 0.3 # 30% gamma factor for clear effect in plot ONLY AFFECT V4 GAMMA POOL with GEE\n",
    "}\n",
    "\n",
    "arb_samples = generate_arb_trades(parameters['num_trades_to_simulate'])\n",
    "arb_samples = arb_samples[arb_samples > 0]\n",
    "usdc_samples = generate_usdc_trades(parameters['num_trades_to_simulate'])\n",
    "usdc_samples = usdc_samples[usdc_samples > 0]\n",
    "\n",
    "num_plot_trades = int(parameters['num_trades_to_simulate']*0.45) # Keep this smaller for faster initial testing/plotting if needed - also only positives showing\n",
    "arb_samples_run = arb_samples[:num_plot_trades]\n",
    "usdc_samples_run = usdc_samples[:num_plot_trades]\n"
   ]
  },
  {
   "cell_type": "code",
   "execution_count": null,
   "metadata": {},
   "outputs": [],
   "source": [
    "\n",
    "# We start with a zero fee pool\n",
    "pool = UniswapV2Pool(parameters, is_zero_fee=True)\n",
    "\n",
    "trade_simulation_0_fee = simulate_trade_sequence(\n",
    "    pool,\n",
    "    arb_samples_run,\n",
    "    usdc_samples_run,\n",
    "    parameters\n",
    ")\n",
    "\n",
    "fig_combined = get_3_plots(trade_simulation_0_fee, f'Trade simulation:V2 Pool with 0% fee')\n",
    "fig_combined.show()\n"
   ]
  },
  {
   "cell_type": "code",
   "execution_count": null,
   "metadata": {},
   "outputs": [],
   "source": [
    "\n",
    "pool = UniswapV2Pool(parameters, is_zero_fee=False)\n",
    "\n",
    "trade_simulation_f_fee = simulate_trade_sequence(\n",
    "    pool,\n",
    "    arb_samples_run,\n",
    "    usdc_samples_run,\n",
    "    parameters\n",
    ")\n",
    "\n",
    "fig_combined = get_3_plots(trade_simulation_f_fee, f'Uni V2 with {parameters[\"fee_pct\"]*100}% fee')\n",
    "fig_combined.show()\n"
   ]
  },
  {
   "cell_type": "code",
   "execution_count": null,
   "metadata": {},
   "outputs": [],
   "source": [
    "\n",
    "pool = v4_gamma_hook_pool(parameters, is_zero_gee=True)\n",
    "\n",
    "trade_simulation_v4_0_gee = simulate_trade_sequence(\n",
    "    pool,\n",
    "    arb_samples_run,\n",
    "    usdc_samples_run,\n",
    "    parameters\n",
    ")\n",
    "\n",
    "fig_combined = get_3_plots(trade_simulation_v4_0_gee, f'V4 Gamma Hook with 0% g')\n",
    "fig_combined.show()\n"
   ]
  },
  {
   "cell_type": "code",
   "execution_count": null,
   "metadata": {},
   "outputs": [],
   "source": [
    "\n",
    "pool = v4_gamma_hook_pool(parameters, is_zero_gee=False)\n",
    "\n",
    "trade_simulation_v4_g_gee = simulate_trade_sequence(\n",
    "    pool,\n",
    "    arb_samples_run,\n",
    "    usdc_samples_run,\n",
    "    parameters\n",
    ")\n",
    "\n",
    "fig_combined = get_3_plots(trade_simulation_v4_g_gee, f'V4 Gamma Hook with {parameters[\"gamma_factor\"]*100}% Gee')\n",
    "fig_combined.show()\n"
   ]
  },
  {
   "cell_type": "code",
   "execution_count": null,
   "metadata": {},
   "outputs": [],
   "source": [
    "joint_df = pd.concat([\n",
    "    trade_simulation_0_fee, \n",
    "    trade_simulation_f_fee, \n",
    "    trade_simulation_v4_0_gee, \n",
    "    trade_simulation_v4_g_gee, \n",
    "    ])\n",
    "\n",
    "\n",
    "fig = get_xy_fig(joint_df, 'trade_number', 'price', 'Resulting Swap Prices (identical relative order sizes)', 'Trade Number', 'Price ARB ($)')\n",
    "fig.show()"
   ]
  },
  {
   "cell_type": "code",
   "execution_count": null,
   "metadata": {},
   "outputs": [],
   "source": [
    "fig = get_xy_fig(joint_df, 'trade_number', 'impermanent_loss', 'Trade Number vs Impermanent Loss', 'Trade Number', 'Impermanent Loss ($)')\n",
    "fig.show()"
   ]
  },
  {
   "cell_type": "code",
   "execution_count": null,
   "metadata": {},
   "outputs": [],
   "source": [
    "from utils.clean import run_simulation # This is the function that runs the simulation\n",
    "\n",
    "parameters = {\n",
    "        'num_trades_to_simulate': 20000, # Or use the desired number\n",
    "        'fee_pct': 0.003, # Using 30% fee for clear effect in plot ONLY AFFECT V2POOL with FEE\n",
    "        'initial_x': 100,  # 100 USDC\n",
    "        'initial_y': 100,   # 100 ARB (as starting point, 1 ARB worth 1 USDC for easy math and same scale visuals)\n",
    "        'gamma_factor': 0.3 # 30% gamma factor for clear effect in plot ONLY AFFECT V4 GAMMA POOL with GEE\n",
    "    }\n",
    "\n",
    "joint_df = run_simulation(parameters)\n",
    "\n",
    "fig = get_xy_fig(joint_df, 'trade_number', 'impermanent_loss', 'Trade Number vs Impermanent Loss', 'Trade Number', 'Impermanent Loss ($)')\n",
    "fig.show()"
   ]
  },
  {
   "cell_type": "code",
   "execution_count": null,
   "metadata": {},
   "outputs": [],
   "source": [
    "\n",
    "fig = get_xy_fig(joint_df, 'fee_pct', 'impermanent_loss_pct', f'Fee pct vs Impermanent Loss ({parameters[\"num_trades_to_simulate\"]} trades)', 'Fee pct', 'Impermanent Loss (%)')\n",
    "for trace in fig.data:\n",
    "    if hasattr(trace, 'marker') and trace.mode == 'markers':\n",
    "        trace.marker.opacity = 0.1 # Set desired transparency (e.g., 0.5 for 50%)\n",
    "\n",
    "fig.show()"
   ]
  },
  {
   "cell_type": "code",
   "execution_count": null,
   "metadata": {},
   "outputs": [
    {
     "name": "stdout",
     "output_type": "stream",
     "text": [
      "Starting Monte Carlo simulation for 1000 runs...\n",
      "Monte Carlo simulation finished.\n"
     ]
    }
   ],
   "source": [
    "\n",
    "# --- Simulation Parameters --- \n",
    "parameters = {\n",
    "    'num_trades_to_simulate': 10000, # Trades per simulation cycle\n",
    "    'fee_pct': 0.003,\n",
    "    'initial_x': 100,\n",
    "    'initial_y': 100,\n",
    "    'gamma_factor': 0.3\n",
    "}\n",
    "\n",
    "# --- Monte Carlo Setup ---\n",
    "num_runs = 100  # Number of simulation cycles to run EXPENSIVE! WARNING - MAY TAKE A WHILE TO RUN IF YOU SET THIS HIGH\n",
    "# monte_carlo_results_df = pd.DataFrame()\n",
    "monte_carlo_summary_list = []\n",
    "\n",
    "# --- Run Monte Carlo Simulation ---\n",
    "print(f\"Starting Monte Carlo simulation for {num_runs} runs...\")\n",
    "# Using tqdm for progress bar\n",
    "for i in range(num_runs):\n",
    "    # Run one simulation cycle and get the final states\n",
    "    final_states_df = run_simulation(parameters)\n",
    "    final_states_df['run_id'] = i\n",
    "\n",
    "    unique_pool_names = final_states_df['pool_name'].unique()\n",
    "\n",
    "    for pool_name in unique_pool_names:\n",
    "        pool_name_df = final_states_df[final_states_df['pool_name'] == pool_name]\n",
    "        total_fee_pct = pool_name_df['fee_pct'].sum()\n",
    "        average_fee_pct = total_fee_pct / len(pool_name_df)\n",
    "        median_fee_pct = pool_name_df['fee_pct'].median()\n",
    "\n",
    "        final_states_new_row = pool_name_df.iloc[-1].copy()\n",
    "        final_states_new_row['total_fee_pct'] = total_fee_pct\n",
    "        final_states_new_row['average_fee_pct'] = average_fee_pct   \n",
    "        final_states_new_row['median_fee_pct'] = median_fee_pct\n",
    "\n",
    "        # Append results if the simulation was successful\n",
    "        monte_carlo_summary_list.append(final_states_new_row)\n",
    "\n",
    "\n",
    "\n",
    "print(\"Monte Carlo simulation finished.\")\n",
    "\n",
    "monte_carlo_results_df = pd.DataFrame(monte_carlo_summary_list)\n",
    "\n"
   ]
  },
  {
   "cell_type": "code",
   "execution_count": 6,
   "metadata": {},
   "outputs": [
    {
     "data": {
      "application/vnd.plotly.v1+json": {
       "config": {
        "plotlyServerURL": "https://plot.ly"
       },
       "data": [
        {
         "marker": {
          "color": "#636EFA",
          "size": 7,
          "symbol": "circle"
         },
         "mode": "markers",
         "name": "v2_pool_f=0.0",
         "type": "scatter",
         "x": {
          "bdata": "AAAAAAAAAAAAAAAAAAAAAAAAAAAAAAAAAAAAAAAAAAAAAAAAAAAAAAAAAAAAAAAAAAAAAAAAAAAAAAAAAAAAAAAAAAAAAAAAAAAAAAAAAAAAAAAAAAAAAAAAAAAAAAAAAAAAAAAAAAAAAAAAAAAAAAAAAAAAAAAAAAAAAAAAAAAAAAAAAAAAAAAAAAAAAAAAAAAAAAAAAAAAAAAAAAAAAAAAAAAAAAAAAAAAAAAAAAAAAAAAAAAAAAAAAAAAAAAAAAAAAAAAAAAAAAAAAAAAAAAAAAAAAAAAAAAAAAAAAAAAAAAAAAAAAAAAAAAAAAAAAAAAAAAAAAAAAAAAAAAAAAAAAAAAAAAAAAAAAAAAAAAAAAAAAAAAAAAAAAAAAAAAAAAAAAAAAAAAAAAAAAAAAAAAAAAAAAAAAAAAAAAAAAAAAAAAAAAAAAAAAAAAAAAAAAAAAAAAAAAAAAAAAAAAAAAAAAAAAAAAAAAAAAAAAAAAAAAAAAAAAAAAAAAAAAAAAAAAAAAAAAAAAAAAAAAAAAAAAAAAAAAAAAAAAAAAAAAAAAAAAAAAAAAAAAAAAAAAAAAAAAAAAAAAAAAAAAAAAAAAAAAAAAAAAAAAAAAAAAAAAAAAAAAAAAAAAAAAAAAAAAAAAAAAAAAAAAAAAAAAAAAAAAAAAAAAAAAAAAAAAAAAAAAAAAAAAAAAAAAAAAAAAAAAAAAAAAAAAAAAAAAAAAAAAAAAAAAAAAAAAAAAAAAAAAAAAAAAAAAAAAAAAAAAAAAAAAAAAAAAAAAAAAAAAAAAAAAAAAAAAAAAAAAAAAAAAAAAAAAAAAAAAAAAAAAAAAAAAAAAAAAAAAAAAAAAAAAAAAAAAAAAAAAAAAAAAAAAAAAAAAAAAAAAAAAAAAAAAAAAAAAAAAAAAAAAAAAAAAAAAAAAAAAAAAAAAAAAAAAAAAAAAAAAAAAAAAAAAAAAAAAAAAAAAAAAAAAAAAAAAAAAAAAAAAAAAAAAAAAAAAAAAAAAAAAAAAAAAAAAAAAAAAAAAAAAAAAAAAAAAAAAAAAAAAAAAAAAAAAAAAAAAAAAAAAAAAAAAAAAAAAAAAAAAAAAAAAAAAAAAAAAAAAAAAAAAAAAAAAAAAAAAAAAAAAAAAAAAAAAAAAAAAAAAAAAAAAAAAAAAAAAAAAAAAAAAAAAAAAAAAAAAAAAAAAAAAAAAAAAAAAAAAAAAAAAAAAAAAAAAAAAAAAAAAAAAAAAAAAAAAAAAAAAAAAAAAAAAAAAAAAAAAAAAAAAAAAAAAAAAAAAAAAAAAAAAAAAAAAAAAAAAAAAAAAAAAAAAAAAAAAAAAAAAAAAAAAAAAAAAAAAAAAAAAAAAAAAAAAAAAAAAAAAAAAAAAAAAAAAAAAAAAAAAAAAAAAAAAAAAAAAAAAAAAAAAAAAAAAAAAAAAAAAAAAAAAAAAAAAAAAAAAAAAAAAAAAAAAAAAAAAAAAAAAAAAAAAAAAAAAAAAAAAAAAAAAAAAAAAAAAAAAAAAAAAAAAAAAAAAAAAAAAAAAAAAAAAAAAAAAAAAAAAAAAAAAAAAAAAAAAAAAAAAAAAAAAAAAAAAAAAAAAAAAAAAAAAAAAAAAAAAAAAAAAAAAAAAAAAAAAAAAAAAAAAAAAAAAAAAAAAAAAAAAAAAAAAAAAAAAAAAAAAAAAAAAAAAAAAAAAAAAAAAAAAAAAAAAAAAAAAAAAAAAAAAAAAAAAAAAAAAAAAAAAAAAAAAAAAAAAAAAAAAAAAAAAAAAAAAAAAAAAAAAAAAAAAAAAAAAAAAAAAAAAAAAAAAAAAAAAAAAAAAAAAAAAAAAAAAAAAAAAAAAAAAAAAAAAAAAAAAAAAAAAAAAAAAAAAAAAAAAAAAAAAAAAAAAAAAAAAAAAAAAAAAAAAAAAAAAAAAAAAAAAAAAAAAAAAAAAAAAAAAAAAAAAAAAAAAAAAAAAAAAAAAAAAAAAAAAAAAAAAAAAAAAAAAAAAAAAAAAAAAAAAAAAAAAAAAAAAAAAAAAAAAAAAAAAAAAAAAAAAAAAAAAAAAAAAAAAAAAAAAAAAAAAAAAAAAAAAAAAAAAAAAAAAAAAAAAAAAAAAAAAAAAAAAAAAAAAAAAAAAAAAAAAAAAAAAAAAAAAAAAAAAAAAAAAAAAAAAAAAAAAAAAAAAAAAAAAAAAAAAAAAAAAAAAAAAAAAAAAAAAAAAAAAAAAAAAAAAAAAAAAAAAAAAAAAAAAAAAAAAAAAAAAAAAAAAAAAAAAAAAAAAAAAAAAAAAAAAAAAAAAAAAAAAAAAAAAAAAAAAAAAAAAAAAAAAAAAAAAAAAAAAAAAAAAAAAAAAAAAAAAAAAAAAAAAAAAAAAAAAAAAAAAAAAAAAAAAAAAAAAAAAAAAAAAAAAAAAAAAAAAAAAAAAAAAAAAAAAAAAAAAAAAAAAAAAAAAAAAAAAAAAAAAAAAAAAAAAAAAAAAAAAAAAAAAAAAAAAAAAAAAAAAAAAAAAAAAAAAAAAAAAAAAAAAAAAAAAAAAAAAAAAAAAAAAAAAAAAAAAAAAAAAAAAAAAAAAAAAAAAAAAAAAAAAAAAAAAAAAAAAAAAAAAAAAAAAAAAAAAAAAAAAAAAAAAAAAAAAAAAAAAAAAAAAAAAAAAAAAAAAAAAAAAAAAAAAAAAAAAAAAAAAAAAAAAAAAAAAAAAAAAAAAAAAAAAAAAAAAAAAAAAAAAAAAAAAAAAAAAAAAAAAAAAAAAAAAAAAAAAAAAAAAAAAAAAAAAAAAAAAAAAAAAAAAAAAAAAAAAAAAAAAAAAAAAAAAAAAAAAAAAAAAAAAAAAAAAAAAAAAAAAAAAAAAAAAAAAAAAAAAAAAAAAAAAAAAAAAAAAAAAAAAAAAAAAAAAAAAAAAAAAAAAAAAAAAAAAAAAAAAAAAAAAAAAAAAAAAAAAAAAAAAAAAAAAAAAAAAAAAAAAAAAAAAAAAAAAAAAAAAAAAAAAAAAAAAAAAAAAAAAAAAAAAAAAAAAAAAAAAAAAAAAAAAAAAAAAAAAAAAAAAAAAAAAAAAAAAAAAAAAAAAAAAAAAAAAAAAAAAAAAAAAAAAAAAAAAAAAAAAAAAAAAAAAAAAAAAAAAAAAAAAAAAAAAAAAAAAAAAAAAAAAAAAAAAAAAAAAAAAAAAAAAAAAAAAAAAAAAAAAAAAAAAAAAAAAAAAAAAAAAAAAAAAAAAAAAAAAAAAAAAAAAAAAAAAAAAAAAAAAAAAAAAAAAAAAAAAAAAAAAAAAAAAAAAAAAAAAAAAAAAAAAAAAAAAAAAAAAAAAAAAAAAAAAAAAAAAAAAAAAAAAAAAAAAAAAAAAAAAAAAAAAAAAAAAAAAAAAAAAAAAAAAAAAAAAAAAAAAAAAAAAAAAAAAAAAAAAAAAAAAAAAAAAAAAAAAAAAAAAAAAAAAAAAAAAAAAAAAAAAAAAAAAAAAAAAAAAAAAAAAAAAAAAAAAAAAAAAAAAAAAAAAAAAAAAAAAAAAAAAAAAAAAAAAAAAAAAAAAAAAAAAAAAAAAAAAAAAAAAAAAAAAAAAAAAAAAAAAAAAAAAAAAAAAAAAAAAAAAAAAAAAAAAAAAAAAAAAAAAAAAAAAAAAAAAAAAAAAAAAAAAAAAAAAAAAAAAAAAAAAAAAAAAAAAAAAAAAAAAAAAAAAAAAAAAAAAAAAAAAAAAAAAAAAAAAAAAAAAAAAAAAAAAAAAAAAAAAAAAAAAAAAAAAAAAAAAAAAAAAAAAAAAAAAAAAAAAAAAAAAAAAAAAAAAAAAAAAAAAAAAAAAAAAAAAAAAAAAAAAAAAAAAAAAAAAAAAAAAAAAAAAAAAAAAAAAAAAAAAAAAAAAAAAAAAAAAAAAAAAAAAAAAAAAAAAAAAAAAAAAAAAAAAAAAAAAAAAAAAAAAAAAAAAAAAAAAAAAAAAAAAAAAAAAAAAAAAAAAAAAAAAAAAAAAAAAAAAAAAAAAAAAAAAAAAAAAAAAAAAAAAAAAAAAAAAAAAAAAAAAAAAAAAAAAAAAAAAAAAAAAAAAAAAAAAAAAAAAAAAAAAAAAAAAAAAAAAAAAAAAAAAAAAAAAAAAAAAAAAAAAAAAAAAAAAAAAAAAAAAAAAAAAAAAAAAAAAAAAAAAAAAAAAAAAAAAAAAAAAAAAAAAAAAAAAAAAAAAAAAAAAAAAAAAAAAAAAAAAAAAAAAAAAAAAAAAAAAAAAAAAAAAAAAAAAAAAAAAAAAAAAAAAAAAAAAAAAAAAAAAAAAAAAAAAAAAAAAAAAAAAAAAAAAAAAAAAAAAAAAAAAAAAAAAAAAAAAAAAAAAAAAAAAAAAAAAAAAAAAAAAAAAAAAAAAAAAAAAAAAAAAAAAAAAAAAAAAAAAAAAAAAAAAAAAAAAAAAAAAAAAAAAAAAAAAAAAAAAAAAAAAAAAAAAAAAAAAAAAAAAAAAAAAAAAAAAAAAAAAAAAAAAAAAAAAAAAAAAAAAAAAAAAAAAAAAAAAAAAAAAAAAAAAAAAAAAAAAAAAAAAAAAAAAAAAAAAAAAAAAAAAAAAAAAAAAAAAAAAAAAAAAAAAAAAAAAAAAAAAAAAAAAAAAAAAAAAAAAAAAAAAAAAAAAAAAAAAAAAAAAAAAAAAAAAAAAAAAAAAAAAAAAAAAAAAAAAAAAAAAAAAAAAAAAAAAAAAAAAAAAAAAAAAAAAAAAAAAAAAAAAAAAAAAAAAAAAAAAAAAAAAAAAAAAAAAAAAAAAAAAAAAAAAAAAAAAAAAAAAAAAAAAAAAAAAAAAAAAAAAAAAAAAAAAAAAAAAAAAAAAAAAAAAAAAAAAAAAAAAAAAAAAAAAAAAAAAAAAAAAAAAAAAAAAAAAAAAAAAAAAAAAAAAAAAAAAAAAAAAAAAAAAAAAAAAAAAAAAAAAAAAAAAAAAAAAAAAAAAAAAAAAAAAAAAAAAAAAAAAAAAAAAAAAAAAAAAAAAAAAAAAAAAAAAAAAAAAAAAAAAAAAAAAAAAAAAAAAAAAAAAAAAAAAAAAAAAAAAAAAAAAAAAAAAAAAAAAAAAAAAAAAAAAAAAAAAAAAAAAAAAAAAAAAAAAAAAAAAAAAAAAAAAAAAAAAAAAAAAAAAAAAAAAAAAAAAAAAAAAAAAAAAAAAAAAAAAAAAAAAAAAAAAAAAAAAAAAAAAAAAAAAAAAAAAAAAAAAAAAAAAAAAAAAAAAAAAAAAAAAAAAAAAAAAAAAAAAAAAAAAAAAAAAAAAAAAAAAAAAAAAAAAAAAAAAAAAAAAAAAAAAAAAAAAAAAAAAAAAAAAAAAAAAAAAAAAAAAAAAAAAAAAAAAAAAAAAAAAAAAAAAAAAAAAAAAAAAAAAAAAAAAAAAAAAAAAAAAAAAAAAAAAAAAAAAAAAAAAAAAAAAAAAAAAAAAAAAAAAAAAAAAAAAAAAAAAAAAAAAAAAAAAAAAAAAAAAAAAAAAAAAAAAAAAAAAAAAAAAAAAAAAAAAAAAAAAAAAAAAAAAAAAAAAAAAAAAAAAAAAAAAAAAAAAAAAAAAAAAAAAAAAAAAAAAAAAAAAAAAAAAAAAAAAAAAAAAAAAAAAAAAAAAAAAAAAAAAAAAAAAAAAAAAAAAAAAAAAAAAAAAAAAAAAAAAAAAAAAAAAAAAAAAAAAAAAAAAAAAAAAAAAAAAAAAAAAAAAAAAAAAAAAAAAAAAAAAAAAAAAAAAAAAAAAAAAAAAAAAAAAAAAAAAAAAAAAAAAAAAAAAAAAAAAAAAAAAAAAAAAAAAAAAAAAAAAAAAAAAAAAAAAAAAAAAAAAAAAAAAAAAAAAAAAAAAAAAAAAAAAAAAAAAAAAAAAAAAAAAAAAAAAAAAAAAAAAAAAAAAAAAAAAAAAAAAAAAAAAAAAAAAAAAAAAAAAAAAAAAAAAAAAAAAAAAAAAAAAAAAAAAAAAAAAAAAAAAAAAAAAAAAAAAAAAAAAAAAAAAAAAAAAAAAAAAAAAAAAAAAAAAAAAAAAAAAAAAAAAAAAAAAAAAAAAAAAAAAAAAAAAAAAAAAAAAAAAAAAAAAAAAAAAAAAAAAAAAAAAAAAAAAAAAAAAAAAAAAAAAAAAAAAAAAAAAAAAAAAAAAAAAAAAAAAAAAAAAAAAAAAAAAAAAAAAAAAAAAAAAAAAAAAAAAAAAAAAAAAAAAAAAAAAAAAAAAAAAAAAAAAAAAAAAAAAAAAAAAAAAAAAAAAAAAAAAAAAAAAAAAAAAAAAAAAAAAAAAAAAAAAAAAAAAAAAAAAAAAAAAAAAAAAAAAAAAAAAAAAAAAAAAAAAAAAAAAAAAAAAAAAAAAAAAAAAAAAAAAAAAAAAAAAAAAAAAAAAAAAAAAAAAAAAAAAAAAAAAAAAAAAAAAAAAAAAAAAAAAAAAAAAAAAAAAAAAAAAAAAAAAAAAAAAAAAAAAAAAAAAAAAAAAAAAAAAAAAAAAAAAAAAAAAAAAAAAAAAAAAAAAAAAAAAAAAAAAAAAAAAAAAAAAAAAAAAAAAAAAAAAAAAAAAAAAAAAAAAAAAAAAAAAAAAAAAAAAAAAAAAAAAAAAAAAAAAAAAAAAAAAAAAAAAAAAAAAAAAAAAAAAAAAAAAAAAAAAAAAAAAAAAAAAAAAAAAAAAAAAAAAAAAAAAAAAAAAAAAAAAAAAAAAAAAAAAAAAAAAAAAAAAAAAAAAAAAAAAAAAAAAAAAAAAAAAAAAAAAAAAAAAAAAAAAAAAAAAAAAAAAAAAAAAAAAAAAAAAAAAAAAAAAAAAAAAAAAAAAAAAAAAAAAAAAAAAAAAAAAAAAAAAAAAAAAAAAAAAAAAAAAAAAAAAAAAAAAAAAAAAAAAAAAAAAAAAAAAAAAAAAAAAAAAAAAAAAAAAAAAAAAAAAAAAAAAAAAAAAAAAAAAAAAAAAAAAAAAAAAAAAAAAAAAAAAAAAAAAAAAAAAAAAAAAAAAAAAAAAAAAAAAAAAAAAAAAAAAAAAAAAAAAAAAAAAAAAAAAAAAAAAAAAAAAAAAAAAAAAAAAAAAAAAAAAAAAAAAAAAAAAAAAAAAAAAAAAAAAAAAAAAAAAAAAAAAAAAAAAAAAAAAAAAAAAAAAAAAAAAAAAAAAAAAAAAAAAAAAAAAAAAAAAAAAAAAAAAAAAAAAAAAAAAAAAAAAAAAAAAAAAAAAAAAAAAAAAAAAAAAAAAAAAAAAAAAAAAAAAAAAAAAAAAAAAAAAAAAAAAAAAAAAAAAAAAAAAAAAAAAAAAAAAAAAAAAAAAAAAAAAAAAAAAAAAAAAAAAAAAAAAAAAAAAAAAAAAAAAAAAAAAAAAAAAAAAAAAAAAAAAAAAAAAAAAAAAAAAAAAAAAAAAAAAAAAAAAAAAAAAAAAAAAAAAAAAAAAAAAAAAAAAAAAAAAAAAAAAAAAAAAAAAAAAAAAAAAAAAAAAAAAAAAAAAAAAAAAAAAAAAAAAAAAAAAAAAAAAAAAAAAAAAAAAAAAAAAAAAAAAAAAAAAAAAAAAAAAAAAAAAAAAAAAAAAAAAAAAAAAAAAAAAAAAAAAAAAAAAAAAAAAAAAAAAAAAAAAAAAAAAAAAAAAAAAAAAAAAAAAAAAAAAAAAAAAAAAAAAAAAAAAAAAAAAAAAAAAAAAAAAAAAAAAAAAAAAAAAAAAAAAAAAAAAAAAAAAAAAAAAAAAAAAAAAAAAAAAAAAAAAAAAAAAAAAAAAAAAAAAAAAAAAAAAAAAAAAAAAAAAAAAAAAAAAAAAAAAAAAAAAAAAAAAAAAAAAAAAAAAAAAAAAAAAAAAAAAAAAAAAAAAAAAAAAAAAAAAAAAAAAAAAAAAAAAAAAAAAAAAAAAAAAAAAAAAAAAAAAAAAAAAAAAAAAAAAAAAAAAAAAAAAAAAAAAAAAAAAAAAAAAAAAAAAAAAAAAAAAAAAAAAAAAAAAAAAAAAAAAAAAAAAAAAAAAAAAAAAAAAAAAAAAAAAAAAAAAAAAAAAAAAAAAAAAAAAAAAAAAAAAAAAAAAAAAAAAAAAAAAAAAAAAAAAAAAAAAAAAAAAAAAAAAAAAAAAAAAAAAAAAAAAAAAAAAAAAAAAAAAAAAAAAAAAAAAAAAAAAAAAAAAAAAAAAAAAAAAAAAAAAAAAAAAAAAAAAAAAAAAAAAAAAAAAAAAAAAAAAAAAAAAAAAAAAAAAAAAAAAAAAAAAAAAAAAAAAAAAAAAAAAAAAAAAAAAAAAAAAAAAAAAAAAAAAAAAAAAAAAAAAAAAAAAAAAAAAAAAAAAAAAAAAAAAAAAAAAAAAAAAAAAAAAAAAAAAAAAAAAAAAAAAAAAAAAAAAAAAAAAAAAAAAAAAAAAAAAAAAAAAAAAAAAAAAAAAAAAAAAAAAAAAAAAAAAAAAAAAAAAAAAAAAAAAAAAAAAAAAAAAAAAAAAAAAAAAAAAAAAAAAAAAAAAAAAAAAAAAAAAAAAAAAAAAAAAAAAAAAAAAAAAAAAAAAAAAAAAAAAAAAAAAAAAAAAAAAAAAAAAAAAAAAAAAAAAAAAAAAAAAAAAAAAAAAAAAAAAAAAAAAAAAAAAAAAAAAAAAAAAAAAAAAAAAAAAAAAAAAAAAAAAAAAAAAAAAAAAAAAAAAAAAAAAAAAAAAAAAAAAAAAAAAAAAAAAAAAAAAAAAAAAAAAAAAAAAAAAAAAAAAAAAAAAAAAAAAAAAAAAAAAAAAAAAAAAAAAAAAAAAAAAAAAAAAAAAAAAAAAAAAAAAAAAAAAAAAAAAAAAAAAAAAAAAAAAAAAAAAAAAAAAAAAAAAAAAAAAAAAAAAAAAAAAAAAAAAAAAAAAAAAAAAAAAAAAAAAAAAAAAAAAAAAAAAAAAAAAAAAAAAAAAAAAAAAAAAAAAAAAAAAAAAAAAAAAAAAAAAAAAAAAAAAAAAAAAAAAAAAAAAAAAAAAAAAAAAAAAAAAAAAAAAAAAAAAAAAAAAAAAAAAAAAAAAAAAAAAAAAAAAAAAAAAAAAAAAAAAAAAAAAAAAAAAAAAAAAAAAAAAAAAAAAAAAAAAAAAAAAAAAAAAAAAAAAAAAAAAAAAAAAAAAAAAAAAAAAAAAAAAAAAAAAAAAAAAAAAAAAAAAAAAAAAAAAAAAAAAAAAAAAAAAAAAAAAAAAAAAAAAAAAAAAAAAAAAAAAAAAAAAAAAAAAAAAAAAAAAAAAAAAAAAAAAAAAAAAAAAAAAAAAAAAAAAAAAAAAAAAAAAAAAAAAAAAAAAAAAAAAAAAAAAAAAAAAAAAAAAAAAAAAAAAAAAAAAAAAAAAAAAAAAAAAAAAAAAAAAAAAAAAAAAAAAAAAAAAAAAAAAAAAAAAAAAAAAAAAAAAAAAAAAAAAAAAAAAAAAAAAAAAAAAAAAAAAAAAAAAAAAAAAAAAAAAAAAAAAAAAAAAAAAAAAAAAAAAAAAAAAAAAAAAAAAAAAAAAAAAAAAAAAAAAAAAAAAAAAAAAAAAAAAAAAAAAAAAAAAAAAAAAAAAAAAAAAAAAAAAAAAAAAAAAAAAAAAAAAAAAAAAAAAAAAAAAAAAAAAAAAAAAAAAAAAAAAAAAAAAAAAAAAAAAAAAAAAAAAAAAAAAAAAAAAAAAAAAAAAAAAAAAAAAAAAAAAAAAAAAAAAAAAAAAAAAAAAAAAAAAAAAAAAAAAAAAAAAAAAAAAAAAAAAAAAAAAAAAAAAAAAAAAAAAAAAAAAAAAAAAAAAAAAAAAAAAAAAAAAAAAAAAAAAAAAAAAAAAAAAAAAAAAAAAAAAAAAAAAAAAAAAAAAAAAAAAAAAAAAAAAAAAAAAAAAAAAAAAAAAAAAAAAAAAAAAAAAAAAAAAAAAAAAAAAAAAAAAAAAAAAAAAAAAAAAAAAAAAAAAAAAAAAAAAAAAAAAAAAAAAAAAAAAAAAAAAAAAAAAAAAAAAAAAAAAAAAAAAAAAAAAAAAAAAAAAAAAAAAAAAAAAAAAAAAAAAAAAAAAAAAAAAAAAAAAAAAAAAAAAAAAAAAAAAAAAAAAAAAAAAAAAAAAAAAAAAAAAAAAAAAAAAAAAAAAAAAAAAAAAAAAAAAAAAAAAAAAAAAAAAAAAAAAAAAAAAAAAAAAAAAAAAAAAAAAAAAAAAAAAAAAAAAAAAAAAAAAAAAAAAAAAAAAAAAAAAAAAAAAAAAAAAAAAAAAAAAAAAAAAAAAAAAAAAAAAAAAAAAAAAAAAAAAAAAAAAAAAAAAAAAAAAAAAAAAAAAAAAAAAAAAAAAAAAAAAAAAAAAAAAAAAAAAAAAAAAAAAAAAAAAAAAAAAAAAAAAAAAAAAAAAAAAAAAAAAAAAAAAAAAAAAAAAAAAAAAAAAAAAAAAAAAAAAAAAAAAAAAAAAAAAAAAAAAAAAAAAAAAAAAAAAAAAAAAAAAAAAAAAAAAAAAAAAAAAAAAAAAAAAAAAAAAAAAAAAAAAAAAAAAAAAAAAAAAAAAAAAAAAAAAAAAAAAAAAAAAAAAAAAAAAAAAAAAAAAAAAAAAAAAAAAAAAAAAAAAAAAAAAAAAAAAAAAAAAAAAAAAAAAAAAAAAAAAAAAAAAAAAAAAAAAAAAAAAAAAAAAAAAAAAAAAAAAAAAAAAAAAAAAAAAAAAAAAAAAAAAAAAAAAAAAAAAAAAAAAAAAAAAAAAAAAAAAAAAAAAAAAAAAAAAAAAAAAAAAAAAAAAAAAAAAAAAAAAAAAAAAAAAAAAAAAAAAAAAAAAAAAAAAAAAAAAAAAAAAAAAAAAAAAAAAAAAAAAAAAAAAAAAAAAAAAAAAAAAAAAAAAAAAAAAAAAAAAAAAAAAAAAAAAAAAAAAAAAAAAAAAAAAAA=",
          "dtype": "f8"
         },
         "y": {
          "bdata": "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",
          "dtype": "f8"
         }
        },
        {
         "marker": {
          "color": "#EF553B",
          "size": 7,
          "symbol": "circle"
         },
         "mode": "markers",
         "name": "v2_pool_f=0.003",
         "type": "scatter",
         "x": {
          "bdata": "+35qvHSTaD/7fmq8dJNoP/t+arx0k2g/+35qvHSTaD/7fmq8dJNoP/t+arx0k2g/+35qvHSTaD/7fmq8dJNoP/t+arx0k2g/+35qvHSTaD/7fmq8dJNoP/t+arx0k2g/+35qvHSTaD/7fmq8dJNoP/t+arx0k2g/+35qvHSTaD/7fmq8dJNoP/t+arx0k2g/+35qvHSTaD/7fmq8dJNoP/t+arx0k2g/+35qvHSTaD/7fmq8dJNoP/t+arx0k2g/+35qvHSTaD/7fmq8dJNoP/t+arx0k2g/+35qvHSTaD/7fmq8dJNoP/t+arx0k2g/+35qvHSTaD/7fmq8dJNoP/t+arx0k2g/+35qvHSTaD/7fmq8dJNoP/t+arx0k2g/+35qvHSTaD/7fmq8dJNoP/t+arx0k2g/+35qvHSTaD/7fmq8dJNoP/t+arx0k2g/+35qvHSTaD/7fmq8dJNoP/t+arx0k2g/+35qvHSTaD/7fmq8dJNoP/t+arx0k2g/+35qvHSTaD/7fmq8dJNoP/t+arx0k2g/+35qvHSTaD/7fmq8dJNoP/t+arx0k2g/+35qvHSTaD/7fmq8dJNoP/t+arx0k2g/+35qvHSTaD/7fmq8dJNoP/t+arx0k2g/+35qvHSTaD/7fmq8dJNoP/t+arx0k2g/+35qvHSTaD/7fmq8dJNoP/t+arx0k2g/+35qvHSTaD/7fmq8dJNoP/t+arx0k2g/+35qvHSTaD/7fmq8dJNoP/t+arx0k2g/+35qvHSTaD/7fmq8dJNoP/t+arx0k2g/+35qvHSTaD/7fmq8dJNoP/t+arx0k2g/+35qvHSTaD/7fmq8dJNoP/t+arx0k2g/+35qvHSTaD/7fmq8dJNoP/t+arx0k2g/+35qvHSTaD/7fmq8dJNoP/t+arx0k2g/+35qvHSTaD/7fmq8dJNoP/t+arx0k2g/+35qvHSTaD/7fmq8dJNoP/t+arx0k2g/+35qvHSTaD/7fmq8dJNoP/t+arx0k2g/+35qvHSTaD/7fmq8dJNoP/t+arx0k2g/+35qvHSTaD/7fmq8dJNoP/t+arx0k2g/+35qvHSTaD/7fmq8dJNoP/t+arx0k2g/+35qvHSTaD/7fmq8dJNoP/t+arx0k2g/+35qvHSTaD/7fmq8dJNoP/t+arx0k2g/+35qvHSTaD/7fmq8dJNoP/t+arx0k2g/+35qvHSTaD/7fmq8dJNoP/t+arx0k2g/+35qvHSTaD/7fmq8dJNoP/t+arx0k2g/+35qvHSTaD/7fmq8dJNoP/t+arx0k2g/+35qvHSTaD/7fmq8dJNoP/t+arx0k2g/+35qvHSTaD/7fmq8dJNoP/t+arx0k2g/+35qvHSTaD/7fmq8dJNoP/t+arx0k2g/+35qvHSTaD/7fmq8dJNoP/t+arx0k2g/+35qvHSTaD/7fmq8dJNoP/t+arx0k2g/+35qvHSTaD/7fmq8dJNoP/t+arx0k2g/+35qvHSTaD/7fmq8dJNoP/t+arx0k2g/+35qvHSTaD/7fmq8dJNoP/t+arx0k2g/+35qvHSTaD/7fmq8dJNoP/t+arx0k2g/+35qvHSTaD/7fmq8dJNoP/t+arx0k2g/+35qvHSTaD/7fmq8dJNoP/t+arx0k2g/+35qvHSTaD/7fmq8dJNoP/t+arx0k2g/+35qvHSTaD/7fmq8dJNoP/t+arx0k2g/+35qvHSTaD/7fmq8dJNoP/t+arx0k2g/+35qvHSTaD/7fmq8dJNoP/t+arx0k2g/+35qvHSTaD/7fmq8dJNoP/t+arx0k2g/+35qvHSTaD/7fmq8dJNoP/t+arx0k2g/+35qvHSTaD/7fmq8dJNoP/t+arx0k2g/+35qvHSTaD/7fmq8dJNoP/t+arx0k2g/+35qvHSTaD/7fmq8dJNoP/t+arx0k2g/+35qvHSTaD/7fmq8dJNoP/t+arx0k2g/+35qvHSTaD/7fmq8dJNoP/t+arx0k2g/+35qvHSTaD/7fmq8dJNoP/t+arx0k2g/+35qvHSTaD/7fmq8dJNoP/t+arx0k2g/+35qvHSTaD/7fmq8dJNoP/t+arx0k2g/+35qvHSTaD/7fmq8dJNoP/t+arx0k2g/+35qvHSTaD/7fmq8dJNoP/t+arx0k2g/+35qvHSTaD/7fmq8dJNoP/t+arx0k2g/+35qvHSTaD/7fmq8dJNoP/t+arx0k2g/+35qvHSTaD/7fmq8dJNoP/t+arx0k2g/+35qvHSTaD/7fmq8dJNoP/t+arx0k2g/+35qvHSTaD/7fmq8dJNoP/t+arx0k2g/+35qvHSTaD/7fmq8dJNoP/t+arx0k2g/+35qvHSTaD/7fmq8dJNoP/t+arx0k2g/+35qvHSTaD/7fmq8dJNoP/t+arx0k2g/+35qvHSTaD/7fmq8dJNoP/t+arx0k2g/+35qvHSTaD/7fmq8dJNoP/t+arx0k2g/+35qvHSTaD/7fmq8dJNoP/t+arx0k2g/+35qvHSTaD/7fmq8dJNoP/t+arx0k2g/+35qvHSTaD/7fmq8dJNoP/t+arx0k2g/+35qvHSTaD/7fmq8dJNoP/t+arx0k2g/+35qvHSTaD/7fmq8dJNoP/t+arx0k2g/+35qvHSTaD/7fmq8dJNoP/t+arx0k2g/+35qvHSTaD/7fmq8dJNoP/t+arx0k2g/+35qvHSTaD/7fmq8dJNoP/t+arx0k2g/+35qvHSTaD/7fmq8dJNoP/t+arx0k2g/+35qvHSTaD/7fmq8dJNoP/t+arx0k2g/+35qvHSTaD/7fmq8dJNoP/t+arx0k2g/+35qvHSTaD/7fmq8dJNoP/t+arx0k2g/+35qvHSTaD/7fmq8dJNoP/t+arx0k2g/+35qvHSTaD/7fmq8dJNoP/t+arx0k2g/+35qvHSTaD/7fmq8dJNoP/t+arx0k2g/+35qvHSTaD/7fmq8dJNoP/t+arx0k2g/+35qvHSTaD/7fmq8dJNoP/t+arx0k2g/+35qvHSTaD/7fmq8dJNoP/t+arx0k2g/+35qvHSTaD/7fmq8dJNoP/t+arx0k2g/+35qvHSTaD/7fmq8dJNoP/t+arx0k2g/+35qvHSTaD/7fmq8dJNoP/t+arx0k2g/+35qvHSTaD/7fmq8dJNoP/t+arx0k2g/+35qvHSTaD/7fmq8dJNoP/t+arx0k2g/+35qvHSTaD/7fmq8dJNoP/t+arx0k2g/+35qvHSTaD/7fmq8dJNoP/t+arx0k2g/+35qvHSTaD/7fmq8dJNoP/t+arx0k2g/+35qvHSTaD/7fmq8dJNoP/t+arx0k2g/+35qvHSTaD/7fmq8dJNoP/t+arx0k2g/+35qvHSTaD/7fmq8dJNoP/t+arx0k2g/+35qvHSTaD/7fmq8dJNoP/t+arx0k2g/+35qvHSTaD/7fmq8dJNoP/t+arx0k2g/+35qvHSTaD/7fmq8dJNoP/t+arx0k2g/+35qvHSTaD/7fmq8dJNoP/t+arx0k2g/+35qvHSTaD/7fmq8dJNoP/t+arx0k2g/+35qvHSTaD/7fmq8dJNoP/t+arx0k2g/+35qvHSTaD/7fmq8dJNoP/t+arx0k2g/+35qvHSTaD/7fmq8dJNoP/t+arx0k2g/+35qvHSTaD/7fmq8dJNoP/t+arx0k2g/+35qvHSTaD/7fmq8dJNoP/t+arx0k2g/+35qvHSTaD/7fmq8dJNoP/t+arx0k2g/+35qvHSTaD/7fmq8dJNoP/t+arx0k2g/+35qvHSTaD/7fmq8dJNoP/t+arx0k2g/+35qvHSTaD/7fmq8dJNoP/t+arx0k2g/+35qvHSTaD/7fmq8dJNoP/t+arx0k2g/+35qvHSTaD/7fmq8dJNoP/t+arx0k2g/+35qvHSTaD/7fmq8dJNoP/t+arx0k2g/+35qvHSTaD/7fmq8dJNoP/t+arx0k2g/+35qvHSTaD/7fmq8dJNoP/t+arx0k2g/+35qvHSTaD/7fmq8dJNoP/t+arx0k2g/+35qvHSTaD/7fmq8dJNoP/t+arx0k2g/+35qvHSTaD/7fmq8dJNoP/t+arx0k2g/+35qvHSTaD/7fmq8dJNoP/t+arx0k2g/+35qvHSTaD/7fmq8dJNoP/t+arx0k2g/+35qvHSTaD/7fmq8dJNoP/t+arx0k2g/+35qvHSTaD/7fmq8dJNoP/t+arx0k2g/+35qvHSTaD/7fmq8dJNoP/t+arx0k2g/+35qvHSTaD/7fmq8dJNoP/t+arx0k2g/+35qvHSTaD/7fmq8dJNoP/t+arx0k2g/+35qvHSTaD/7fmq8dJNoP/t+arx0k2g/+35qvHSTaD/7fmq8dJNoP/t+arx0k2g/+35qvHSTaD/7fmq8dJNoP/t+arx0k2g/+35qvHSTaD/7fmq8dJNoP/t+arx0k2g/+35qvHSTaD/7fmq8dJNoP/t+arx0k2g/+35qvHSTaD/7fmq8dJNoP/t+arx0k2g/+35qvHSTaD/7fmq8dJNoP/t+arx0k2g/+35qvHSTaD/7fmq8dJNoP/t+arx0k2g/+35qvHSTaD/7fmq8dJNoP/t+arx0k2g/+35qvHSTaD/7fmq8dJNoP/t+arx0k2g/+35qvHSTaD/7fmq8dJNoP/t+arx0k2g/+35qvHSTaD/7fmq8dJNoP/t+arx0k2g/+35qvHSTaD/7fmq8dJNoP/t+arx0k2g/+35qvHSTaD/7fmq8dJNoP/t+arx0k2g/+35qvHSTaD/7fmq8dJNoP/t+arx0k2g/+35qvHSTaD/7fmq8dJNoP/t+arx0k2g/+35qvHSTaD/7fmq8dJNoP/t+arx0k2g/+35qvHSTaD/7fmq8dJNoP/t+arx0k2g/+35qvHSTaD/7fmq8dJNoP/t+arx0k2g/+35qvHSTaD/7fmq8dJNoP/t+arx0k2g/+35qvHSTaD/7fmq8dJNoP/t+arx0k2g/+35qvHSTaD/7fmq8dJNoP/t+arx0k2g/+35qvHSTaD/7fmq8dJNoP/t+arx0k2g/+35qvHSTaD/7fmq8dJNoP/t+arx0k2g/+35qvHSTaD/7fmq8dJNoP/t+arx0k2g/+35qvHSTaD/7fmq8dJNoP/t+arx0k2g/+35qvHSTaD/7fmq8dJNoP/t+arx0k2g/+35qvHSTaD/7fmq8dJNoP/t+arx0k2g/+35qvHSTaD/7fmq8dJNoP/t+arx0k2g/+35qvHSTaD/7fmq8dJNoP/t+arx0k2g/+35qvHSTaD/7fmq8dJNoP/t+arx0k2g/+35qvHSTaD/7fmq8dJNoP/t+arx0k2g/+35qvHSTaD/7fmq8dJNoP/t+arx0k2g/+35qvHSTaD/7fmq8dJNoP/t+arx0k2g/+35qvHSTaD/7fmq8dJNoP/t+arx0k2g/+35qvHSTaD/7fmq8dJNoP/t+arx0k2g/+35qvHSTaD/7fmq8dJNoP/t+arx0k2g/+35qvHSTaD/7fmq8dJNoP/t+arx0k2g/+35qvHSTaD/7fmq8dJNoP/t+arx0k2g/+35qvHSTaD/7fmq8dJNoP/t+arx0k2g/+35qvHSTaD/7fmq8dJNoP/t+arx0k2g/+35qvHSTaD/7fmq8dJNoP/t+arx0k2g/+35qvHSTaD/7fmq8dJNoP/t+arx0k2g/+35qvHSTaD/7fmq8dJNoP/t+arx0k2g/+35qvHSTaD/7fmq8dJNoP/t+arx0k2g/+35qvHSTaD/7fmq8dJNoP/t+arx0k2g/+35qvHSTaD/7fmq8dJNoP/t+arx0k2g/+35qvHSTaD/7fmq8dJNoP/t+arx0k2g/+35qvHSTaD/7fmq8dJNoP/t+arx0k2g/+35qvHSTaD/7fmq8dJNoP/t+arx0k2g/+35qvHSTaD/7fmq8dJNoP/t+arx0k2g/+35qvHSTaD/7fmq8dJNoP/t+arx0k2g/+35qvHSTaD/7fmq8dJNoP/t+arx0k2g/+35qvHSTaD/7fmq8dJNoP/t+arx0k2g/+35qvHSTaD/7fmq8dJNoP/t+arx0k2g/+35qvHSTaD/7fmq8dJNoP/t+arx0k2g/+35qvHSTaD/7fmq8dJNoP/t+arx0k2g/+35qvHSTaD/7fmq8dJNoP/t+arx0k2g/+35qvHSTaD/7fmq8dJNoP/t+arx0k2g/+35qvHSTaD/7fmq8dJNoP/t+arx0k2g/+35qvHSTaD/7fmq8dJNoP/t+arx0k2g/+35qvHSTaD/7fmq8dJNoP/t+arx0k2g/+35qvHSTaD/7fmq8dJNoP/t+arx0k2g/+35qvHSTaD/7fmq8dJNoP/t+arx0k2g/+35qvHSTaD/7fmq8dJNoP/t+arx0k2g/+35qvHSTaD/7fmq8dJNoP/t+arx0k2g/+35qvHSTaD/7fmq8dJNoP/t+arx0k2g/+35qvHSTaD/7fmq8dJNoP/t+arx0k2g/+35qvHSTaD/7fmq8dJNoP/t+arx0k2g/+35qvHSTaD/7fmq8dJNoP/t+arx0k2g/+35qvHSTaD/7fmq8dJNoP/t+arx0k2g/+35qvHSTaD/7fmq8dJNoP/t+arx0k2g/+35qvHSTaD/7fmq8dJNoP/t+arx0k2g/+35qvHSTaD/7fmq8dJNoP/t+arx0k2g/+35qvHSTaD/7fmq8dJNoP/t+arx0k2g/+35qvHSTaD/7fmq8dJNoP/t+arx0k2g/+35qvHSTaD/7fmq8dJNoP/t+arx0k2g/+35qvHSTaD/7fmq8dJNoP/t+arx0k2g/+35qvHSTaD/7fmq8dJNoP/t+arx0k2g/+35qvHSTaD/7fmq8dJNoP/t+arx0k2g/+35qvHSTaD/7fmq8dJNoP/t+arx0k2g/+35qvHSTaD/7fmq8dJNoP/t+arx0k2g/+35qvHSTaD/7fmq8dJNoP/t+arx0k2g/+35qvHSTaD/7fmq8dJNoP/t+arx0k2g/+35qvHSTaD/7fmq8dJNoP/t+arx0k2g/+35qvHSTaD/7fmq8dJNoP/t+arx0k2g/+35qvHSTaD/7fmq8dJNoP/t+arx0k2g/+35qvHSTaD/7fmq8dJNoP/t+arx0k2g/+35qvHSTaD/7fmq8dJNoP/t+arx0k2g/+35qvHSTaD/7fmq8dJNoP/t+arx0k2g/+35qvHSTaD/7fmq8dJNoP/t+arx0k2g/+35qvHSTaD/7fmq8dJNoP/t+arx0k2g/+35qvHSTaD/7fmq8dJNoP/t+arx0k2g/+35qvHSTaD/7fmq8dJNoP/t+arx0k2g/+35qvHSTaD/7fmq8dJNoP/t+arx0k2g/+35qvHSTaD/7fmq8dJNoP/t+arx0k2g/+35qvHSTaD/7fmq8dJNoP/t+arx0k2g/+35qvHSTaD/7fmq8dJNoP/t+arx0k2g/+35qvHSTaD/7fmq8dJNoP/t+arx0k2g/+35qvHSTaD/7fmq8dJNoP/t+arx0k2g/+35qvHSTaD/7fmq8dJNoP/t+arx0k2g/+35qvHSTaD/7fmq8dJNoP/t+arx0k2g/+35qvHSTaD/7fmq8dJNoP/t+arx0k2g/+35qvHSTaD/7fmq8dJNoP/t+arx0k2g/+35qvHSTaD/7fmq8dJNoP/t+arx0k2g/+35qvHSTaD/7fmq8dJNoP/t+arx0k2g/+35qvHSTaD/7fmq8dJNoP/t+arx0k2g/+35qvHSTaD/7fmq8dJNoP/t+arx0k2g/+35qvHSTaD/7fmq8dJNoP/t+arx0k2g/+35qvHSTaD/7fmq8dJNoP/t+arx0k2g/+35qvHSTaD/7fmq8dJNoP/t+arx0k2g/+35qvHSTaD/7fmq8dJNoP/t+arx0k2g/+35qvHSTaD/7fmq8dJNoP/t+arx0k2g/+35qvHSTaD/7fmq8dJNoP/t+arx0k2g/+35qvHSTaD/7fmq8dJNoP/t+arx0k2g/+35qvHSTaD/7fmq8dJNoP/t+arx0k2g/+35qvHSTaD/7fmq8dJNoP/t+arx0k2g/+35qvHSTaD/7fmq8dJNoP/t+arx0k2g/+35qvHSTaD/7fmq8dJNoP/t+arx0k2g/+35qvHSTaD/7fmq8dJNoP/t+arx0k2g/+35qvHSTaD/7fmq8dJNoP/t+arx0k2g/+35qvHSTaD/7fmq8dJNoP/t+arx0k2g/+35qvHSTaD/7fmq8dJNoP/t+arx0k2g/+35qvHSTaD/7fmq8dJNoP/t+arx0k2g/+35qvHSTaD/7fmq8dJNoP/t+arx0k2g/+35qvHSTaD/7fmq8dJNoP/t+arx0k2g/+35qvHSTaD/7fmq8dJNoP/t+arx0k2g/+35qvHSTaD/7fmq8dJNoP/t+arx0k2g/+35qvHSTaD/7fmq8dJNoP/t+arx0k2g/+35qvHSTaD/7fmq8dJNoP/t+arx0k2g/+35qvHSTaD/7fmq8dJNoP/t+arx0k2g/+35qvHSTaD/7fmq8dJNoP/t+arx0k2g/+35qvHSTaD/7fmq8dJNoP/t+arx0k2g/+35qvHSTaD/7fmq8dJNoP/t+arx0k2g/+35qvHSTaD/7fmq8dJNoP/t+arx0k2g/+35qvHSTaD/7fmq8dJNoP/t+arx0k2g/+35qvHSTaD/7fmq8dJNoP/t+arx0k2g/+35qvHSTaD/7fmq8dJNoP/t+arx0k2g/+35qvHSTaD/7fmq8dJNoP/t+arx0k2g/+35qvHSTaD/7fmq8dJNoP/t+arx0k2g/+35qvHSTaD/7fmq8dJNoP/t+arx0k2g/+35qvHSTaD/7fmq8dJNoP/t+arx0k2g/+35qvHSTaD/7fmq8dJNoP/t+arx0k2g/+35qvHSTaD/7fmq8dJNoP/t+arx0k2g/+35qvHSTaD/7fmq8dJNoP/t+arx0k2g/+35qvHSTaD/7fmq8dJNoP/t+arx0k2g/+35qvHSTaD/7fmq8dJNoP/t+arx0k2g/+35qvHSTaD/7fmq8dJNoP/t+arx0k2g/+35qvHSTaD/7fmq8dJNoP/t+arx0k2g/+35qvHSTaD/7fmq8dJNoP/t+arx0k2g/+35qvHSTaD/7fmq8dJNoP/t+arx0k2g/+35qvHSTaD/7fmq8dJNoP/t+arx0k2g/+35qvHSTaD/7fmq8dJNoP/t+arx0k2g/+35qvHSTaD/7fmq8dJNoP/t+arx0k2g/+35qvHSTaD/7fmq8dJNoP/t+arx0k2g/+35qvHSTaD/7fmq8dJNoP/t+arx0k2g/+35qvHSTaD/7fmq8dJNoP/t+arx0k2g/+35qvHSTaD/7fmq8dJNoP/t+arx0k2g/+35qvHSTaD/7fmq8dJNoP/t+arx0k2g/+35qvHSTaD/7fmq8dJNoP/t+arx0k2g/+35qvHSTaD/7fmq8dJNoP/t+arx0k2g/+35qvHSTaD/7fmq8dJNoP/t+arx0k2g/+35qvHSTaD/7fmq8dJNoP/t+arx0k2g/+35qvHSTaD/7fmq8dJNoP/t+arx0k2g/+35qvHSTaD/7fmq8dJNoP/t+arx0k2g/+35qvHSTaD/7fmq8dJNoP/t+arx0k2g/+35qvHSTaD/7fmq8dJNoP/t+arx0k2g/+35qvHSTaD/7fmq8dJNoP/t+arx0k2g/+35qvHSTaD/7fmq8dJNoP/t+arx0k2g/+35qvHSTaD/7fmq8dJNoP/t+arx0k2g/+35qvHSTaD/7fmq8dJNoP/t+arx0k2g/+35qvHSTaD/7fmq8dJNoP/t+arx0k2g/+35qvHSTaD/7fmq8dJNoP/t+arx0k2g/+35qvHSTaD/7fmq8dJNoP/t+arx0k2g/+35qvHSTaD/7fmq8dJNoP/t+arx0k2g/+35qvHSTaD/7fmq8dJNoP/t+arx0k2g/+35qvHSTaD/7fmq8dJNoP/t+arx0k2g/+35qvHSTaD/7fmq8dJNoP/t+arx0k2g/+35qvHSTaD/7fmq8dJNoP/t+arx0k2g/+35qvHSTaD/7fmq8dJNoP/t+arx0k2g/+35qvHSTaD/7fmq8dJNoP/t+arx0k2g/+35qvHSTaD/7fmq8dJNoP/t+arx0k2g/+35qvHSTaD/7fmq8dJNoP/t+arx0k2g/+35qvHSTaD/7fmq8dJNoP/t+arx0k2g/+35qvHSTaD/7fmq8dJNoP/t+arx0k2g/+35qvHSTaD/7fmq8dJNoP/t+arx0k2g/+35qvHSTaD/7fmq8dJNoP/t+arx0k2g/+35qvHSTaD/7fmq8dJNoP/t+arx0k2g/+35qvHSTaD/7fmq8dJNoP/t+arx0k2g/+35qvHSTaD/7fmq8dJNoP/t+arx0k2g/+35qvHSTaD/7fmq8dJNoP/t+arx0k2g/+35qvHSTaD/7fmq8dJNoP/t+arx0k2g/+35qvHSTaD/7fmq8dJNoP/t+arx0k2g/+35qvHSTaD/7fmq8dJNoP/t+arx0k2g/+35qvHSTaD/7fmq8dJNoP/t+arx0k2g/+35qvHSTaD/7fmq8dJNoP/t+arx0k2g/+35qvHSTaD/7fmq8dJNoP/t+arx0k2g/+35qvHSTaD8=",
          "dtype": "f8"
         },
         "y": {
          "bdata": "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",
          "dtype": "f8"
         }
        },
        {
         "marker": {
          "color": "#00CC96",
          "size": 7,
          "symbol": "cross"
         },
         "mode": "markers",
         "name": "v4_gamma_pool_g=0",
         "type": "scatter",
         "x": {
          "bdata": "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",
          "dtype": "f8"
         },
         "y": {
          "bdata": "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",
          "dtype": "f8"
         }
        },
        {
         "marker": {
          "color": "#AB63FA",
          "size": 7,
          "symbol": "cross"
         },
         "mode": "markers",
         "name": "v4_gamma_pool_g=0.3",
         "type": "scatter",
         "x": {
          "bdata": "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",
          "dtype": "f8"
         },
         "y": {
          "bdata": "zdl1OZf6jz/Ry86b2KKTP/s8aIdKe5E/P/myUR0VkD8gcVAGhxqLP1tE9hrtV5E/lz9WCfeBkT+xByxoikeSPyAKIrKHL5E/jmhGi8rjkT9vSrpvPL+VPyexayiA6o4/73rKH3uujj+qvk9/Q8GPP3U1U/kK3o0/4f0/PvcujD/sgtrpctiRPxw7l+kV9Yg/ZFDnrDvekD/9GWjdan2TP4iBTgRTOos/9jNu4Ivrjz/wIP3et5KRP3t61ToLDI8//Wm221HfkT8i93S1LnOKP+FefYVxQY0/Wm0NNdVbkD9gtbk7gyuQP+rN+HzLCZE/URa7UV4Diz/LxqMG5MeRP3JMmW4nk44/ej/gXuWfjT9j95tivBySP0TOdbBasZM/OyojF+dojz+j2SWsA9aOP28qm69+CZE/VCIIc9R9jj9VeTTlp7OPP+e0ev2RG44/pEYjuiLgkT+YmAtbB8yLPzRNtrBJSZA/RywbYY2nhz/+v3P+6AaPP5bOmujfOow/K+kv41skjD9jUaYihsqLP1P1itmVQ44/PuTsNy1ikT8k24bZqrSRPwOFjDhiUpM/IImkIqMjij/+j5Vl3WSNP2iAagvk85E/OBI7cvUIiT/nUEWj/YORP3rt3U2kD40/GmZJB6GUkz9Xt/Db7EyLPxTtgkHQP40/Dv3havi8jj98wlDDOk2SPxEDuDwn644/UnmDPuIYkD9S4/blPsmXP3c8e55PHog/Mw7edyW8kj+yTypx1bCOP1xPXfxKnIo/4tdKT5pokz8RXI/wXK2LPyiDuB3TU4s/cYFPgxellD96I/YhtqqMPxQN0iQZgo4/fdVjZJXRjj8TEOgGfRORP8EQmDzXl4k/crUnZFWtiD/jwznXVQKJPz/KiVE4kJE/GeRb1Da4jT+MEnEjBhePP14DECJDipA/SUuGdHvXjD/7I0uOH4+KP3MF7DQ2aY0/6ub5HLcTkT/7yvLqGauPPyJHBE+NRY8/5SgRPIgylD9n1sz5nUGLPwZ+cz3lEI8/YCB0Gyovij+egREtWjGOP+iF7lPDlpE/QFVDMdu1kz8N0+8jyaWJPxC9bPl2e40/HYIk8+XkkD/nKpXyOMCQP5b+Wi2Jv44/FMHDom3LkD8AHZGe1nCMP89En6vDaYk/hTqIJ5cgjz/ZEEop2EaRP+mwotz8948/L36VMBUWkD/U/C+KCO2LP9WEmrv+M5I/hMzOyRcwlT8iRw91ZfmLPzM8tNXixY4/xBP0HTlmjT9d1Za7wSiQPwBr+rzhe48/OAWUkG9kkj9Y/i5qh0KPPzAlAr/SOYw/YVbj/BiBjT/WF88T3vWNPyPqMc43Zo4/nW/4Ex3elD/YySqQBDiNP385S7Mk4I8/WxcFSX01kj+x/WfJVy6LP2crr5gaEYo/LzeNZf8lkT+K1CtlPDiMPzBZfTs2WpQ/MZBB5IOkij++RlUEb22QP1FnSvDFIok/EcHhdfbKij+dTE/qcQaMP74xPuW/AZE//cnVJLD5gj+iAHRYF8KKP9Ci0MQ/X4s/yvn8Pp/PkD/yxJSgcguMP5A69K4ehIw/QspvUE7rkD+F5Mse+a6RP/K8WIJwUI0//QUWqD4Jkz9Y2vQmgPmQP8eUizsGFYw/aZJyzrsokz+kFOQqODKPPwMzX6ocrYo/ULIaAwikkD+u8byc1Z2OP/wxQ2dpao0/VX9Yeb4OjT9EWYX75R2PPwdHJ5MXp4g/a3W/fenAiD9+BOXv6ciTP4tgj+1r3Yw/6kxiBK3dlT8vSAkRoo6JP5wdVWaj7ZA/GNg2fL5WjD94OEy9vgWNPxrbM4pwMJA/w+YydYThkD82/UubL8WPP2PHIBveVZA/AZ1rfQxOkD/iBW1ScjWMPwpIzB+To5E/cDXWYi8LjD883ja7qASKP0mCNJ7AlYs/m2CJRrXyjj+zIFbTW/iOP7TeilPT2pI/eGdiy0fzjT/hrzg/JSmRP5Y9alrWnYs/whdG8jV1kT+V+EIKvjGPP9xy82B5z5A/502eAgBHkj+6m/m0p9qUP9yJf6QlFIs/CW5pxocTlT9/OmfD/N+LP7RhG6GIJ5A/OiOdeCDokz9GsJmf1GeNP6BeSQRGZo0/RuYLoDQIjD+Wl2PNyvyMP6uzIoczrI8/TY8/0TM8kT9GLs8HJ26NP/7v3un1BpE/8pd1vChkjT8bYToLAw2RP6oDpkzgdJA/jNjDuWonkD+QGb7h0zyPP3QMbVhu4og/NVb/rbZKiT/RYoPuh46LPzkXvM9n7Yk/PMJ43E59kD8a4Eh4npWTP3wdm/4hF44/3o5AJPn9jj+BVkqgJMiTP/ToM10O2Ik/MRa7SCuAiD/nUuDiIzSPP62SkXMB740/4+3kVyv9hz9GSxehatKUP8PiN6O+oZE/Hm4RtzV4hj+Osx7aqZeNP4948t8vwYo/e/UCwluSkT/UGAckPGyUP+SbrN35HIw/bc8L02+zkj/KpSNS47CLP65QF3KvGZM/6xHt7HIXkj+imgSQ01KSPxT8Ic74oZI/sTzdb/drjz/dLmR3A3GOP+BnOzYyE4A/Kz7qAWBphD+/ZpF5GImMP3udi/y8M4w/77Yq7/Bviz+1daWNRRmOP2ks12IhSog/hGzN3QlHlT/F4FPiuh2OPzmFcnsrLYs/TkG6WclfjD+O0RxsTN6QP+yq5ZDBL5Q/IDThi2BukD8ZKjp9Ak6QP5RDTrPuWpA/cwoY22xmlD9LPJpHa5uPP86MYE6zKJU/ryynQvROkj9Mod5V0iKLPxZ5Cg22E5M/S2NkH9Y7iz93dsKtEB+OP8fy7yyZKZE/HpIMaKBLkz/+G2SoYzCQP0eREBs3B40/JCYHOEWFjD+/8gmLe8iLP45/LU/v9Yg//AAYLI4BjD9TNtYFR0KOP+o0RDbqFY8/ndTgvgh1kT871C42zimQP+I/71VfoZA/MMLcI6+FjD8ZfgmT/gePPwuVqKr9DpQ/7g7qCANukD+JaFrlTwWRP0BlXaywaYs/UawMmc0xlT/pzdK/MQOHP6REnjK1F4w/6Vzf+3miij8uI/FMfM2LP/qlDJIeOpE/4YVAhpEOiT/Z2J5DwEmRP4IlFA8wrY4//UxdVPOOiz9uUvcHexmQP9FZoo7rg4w/AsWkcScIjD8RS1VBnIKLPxGxfI7q+JA/CxCBLGd7jz8FPXAaKWaQP4PnVqMsPYw/LIIfQOl0lj8Agx3q2PKJP4t+Zd35j4c/JAWQ5sAGjj84Jw2XolCRP5SQYPHXg4s/se3jW4bRkD+ZvURc3F2MP3hcavvMlo0/PQfvuJfZjD8SsnB3CR6NPwg/QAxknZM/8H+nPgMGkj8NTFlo/5CLP1cfsJ1TeYw/jYe90n2Hiz/stuhklseQP5cScZsOUYk/SaQEzidSkD91cGew+5CMP44dpWRSipI/cI1V72ktjz9bbRL4YHmHPwD0u/AOYI4/heqrINPLkD/QtX03WlKRPwb2mVtazYs/nSl3m7AngT8VPvhtXs2KP7m8Cwp8bYk/2nj0F7n3jj+8o5JZszmQP1U1iwi/P4Q/5mV4DVQZiD+bKxsVni6QP870jtfV44Q/gxdNYAJShD9iI9mnJ7uQP36o6ByLwYk/29rl7TcLjz+uYbmB6CeOP2Ta3B6Z5ZE/cJw48S+Yiz+85wNiQ9qQP1MWQo3ucY8/g9YmawJQjz8xYTye9PuOP8FmULkeZZA/fXJPl8unjT9OB/rhfASTPy2WGxmYJpE/7iYH7RMfkD8rcbenYpiRP8GMbLPGB48/H9cz50Q/kT/ILsQjGl+RP4LSbldnQZM/xIc40XSmkT8iw/RAk1CPP4NrYjV/kY4/dpJbrYxdjj/fWF6iRr6NP7OlfTgioY4/DjbY0pHTij8f6DzT/DCQP+FIzsPq048/SPmC4IJZjz/Y/e9C0R6TPz0Wc1zezYs/VkbPVGs3jj+thxfK/I6UPzInUv5mFoo/hEIR8OUGlD8/FNX1hv2UP5bQDieENZY/DFBu/Ys8kD/OoI+0PXGSPw+EoYO7g48/gumf0KcSkD8F4mmltcWHP7D9J6wG2Yw/Ctj0GK+Miz/49+dsCDmMP0n6UHbmSZA/CGHBtQnIkz/stG1GRP2LP0Rw7AaWd4o/cPeNEZ1Ljz/FSanVIr+UP2/wbMJsD5E/uEQTNPAHjT/0xVvKQCaWP5mlAHcLnY0/PYSDlmFwkD+HTgCqcW6QP/HL89AAVY8/J6GTPDZIjT/U8Ej/M5qRP2Zu2DyQi5U/Egsb+MW0kT8SHeH24NGSP1TXhxmiCY8/ymhPDLe8jT8ZFxYi0qORPz8+N59p8Y8/XFR8gpOYjT+dL+KJLimQP3TbzdAhgZY/kqg/m9FfjT+uI+FxnoiJP5fMxT/Ou5E/bwh7GN0zkD9F0G8bVBWKP1Odwcg/YYo/pXw7yxXCjj8D7b7zyW2VP4uSxw/TxpE/vqrLduqtjz8Jr1QiBjmTP2HhxI1F0o0/UcTS5hjgjj9TsDbGxp2QPx+OAqXESY8/8NBTqgX1kj9IWa5VVWCQP0/FczYQLIw/BEoh63uyiz9h9hAXeLqJP2s0KevyDY0/GExIsGojiz+vpflZL5SMPxgpGy+j4JE/Endj2RqLjT/w7tvl1RuMPxYps/wLH40/CIZuOg15kj8GZlc0P4CQP852D3N5W5E/zHR8Yi3jjD8ZaGdth56MP7L8T8z8SY8/nVV+XBXgjT/AdgO7DCiJP03tKh9AjJA/ZeeDrCU1jz9WCEWx/CGOP7cxo3k00JA/gEafiM2BkD8PqZm2ABuNP78tzmwRQ5A/2+kLbRflkD8vjKt3qoKOP6xmlekyy5I/6+lU3YPzjT8mmu9HaoySPzeXV8Xd4ok/p0QTcZdhkz93xkNHd0GSPy+tH9Wthow/GWvOdu6Jjj/EOuKGhSOSP3UFbHnHbI0/1u6omCrAjD/A+UevzASRPzndkMp+9I0/WXslZF1ikD8IU14vMl+LP/pc0+/09o4/IAc7bkN4kT8VRZrwR96MPzx2nPuaKJA/3l4BxtTHiD+oFFJGDMqOP0K1GnPdHow/lsfAOROBiz8U73u9LxKQP1bVI6uwmow/dJexHYrEiD8CsbEozg2TP5LdyY4eApA/nhtgS3htjT/uw22NVrSSP/vc+cX+55M/6lBEoXpIjj+xOUr8jn2RP+Tnf7HwKYw/wLTMkap5iz8mi8mHXj2OP4jcvGpXDos/8E0uATi+iz8YdzD/xQSVP3rQ509w044/rtaAaVCiiz+kGjkUMjeQP7K+zVTfx48/k4l17J2pjz8DxHTk6ECNP9Y49hK9RI8/4UhHYz0fkj9AtpmxHkyJP8Na4MD7qpU/44XNCpB0ij/KiNzHFsGMP86ZgfSHlIw/aLFeVP/mmD91e9EkT7WQP9IxSQhIFI8/zQhuBCLJkD/o/k+ytDaKPxxiBg6Z35E//DNDCHGMjj+oJs1mXMuMP459XuNLbJI/JFJbjhOsjT+37OlrPDyQP3zwFowttY4/Z6ofyZMjkz87l3csgCyPPxqKM2X+cJE/6qay08L9jj/v2AthyRyQP0Y3jIqcI4s/ovPQ5z9Skj8oTpBP/2CTPznpbhL6+JE/hIGmvcD5kj/phJvC3G6RP32y+pWDtZA/Omg4oigVkD9UGBhZu4qQPzFdnu/UNI8/YjGcUTobjz9ULuKxXDqMP5OSLn1rV5U/8Bu5NwGsjD85FOTLIIKQPxqFpnBrNo0/qcXqb/usiT8qDh+uZ6eSP/7oH/NBIYw/nzGuxkctkD/fSzd2+s6KP3Vdgnj1DJY/OnUPakPIij/FIXfHgWOIP+mnCHlrJI0/ReXhPgsilT+xVfvze36PP91YwrDsHZA/EfAQfH+WkT//RIeeDWmWP598w0nQ35A/eTKRYZDzgz95ga7SQWuIP8RZwxVDR40/lkbxMWipiz93UGqCYX6LP686pygJQJA/ijKNsRuCjT+9SeOtl5mLPxDsDSuIUZA/tpmVEavkhz9UNfQ8G4aRPwj2TSP83pA/WvUcm/lQiT/JkTd6+aGMPxXVzK/8oIQ/RnyfTwrEkD+5IMnuCMKPPw5TfBhgT44/NJbtPThQjz9pp8yNjQ+TP8EG/UoNMY4/zpzsgTJAjj9VOVVxdv+LP1atIqKb4os/W+dN+gtHiT/nSAojIPWSP5430BqHS40/sFUGN0B7jD8iMWVU9biOPyYdu2HxeIw/2j67xwz9iD+evZKZ+jeSP4+1Ml4Vgo0/qjl4v4hiij/KXqL/wXaQPz7fwk5B35Q/1Pr/swVMkD9eUGGOFcORPyKjxL6XCo4/H8SALqzlkT8RkXuglzyLPwuyUHl9Q5E/s18Ur17ykT+UU3zmK+mFPw4KY48CZ40/euWqZNCnjD+gj6g88dePP1Cscpd3Po8/v5NG6HIckD9JoykJqWeRPzte+rUnCIo/5u0pRXbwkj+W4xucFK6OP8C40HUkvpE/h/ppkzxqjz/Au5wQHuCPP1HqZgDG0JI/+sQn5yEujj9Gyv//BsyQP5dIBzp+3o0/2gni4HVVeT/fTyvQ3HKLP7zlY2he2ZA//KR5NuLXkD80bxZHylSPPwR1hgqIF4U/CAbk9A9Kkj/6GqkvI/OQP/wjBcV4Now/bLs5+r29jj8VDHnnBlmRP1fml6gS3o4/q6Zb+r+gjz+w44g6DrKVPwl2PJO0L5I/eb201GnSjj96INrOa2+KP85Vq7u7xoo/RQlTbzZUkD+FABKI2CuUP9Qff5hkLoY/4EzYiVnDlD//g/E8H1SMP0hJgqm4mIw/zaNJ6yzPkj+M1Zhcn4CMP+HfYi3wxJA/CXweeN+2iz/MCsxbDlqQP2c6nki4Q4U/+PPmfz2xkD/MaIvXyDWMP7M0c4bALZA/CD9OfUk9lD9l3G7PtGWMP1AyvJXM1Y0/QfwTfWsxkD/su66axHSSP0E1MflkfY8/v38lpEwFjz+Q9O0n0uKLP6ue4BDycow/XNx2mlQQkT9d69GP2fuNP1ImXs+Sao0/cilTTIwUkT9WKwTL/eeRPwPuP3pQDI0/kRMFTq2MjD9Hyjv0exmOP2EdYt+0fJA/OpaEoL3AjT/Y+ksrDMaGP8+k9gAyXJI/dRv+uNq/lD9QNnw7AeiQP7IWvoQMsZA/fiHlXHfvij9k6z112kSPP4pOKP4vBIw/8EoyaNnIlT/oM2XPwViLPy7jvEfMjo4/jH3YvgRWjz8kxnbn1VeGP+4IoDM3I5A/jQvG0CsLkz928HlkJzmNP3xbeMxcgZA/KJiBhalqlD9HVS0VxU6IP8OKmQC2Fo8/QUTCLLDfiz/Zu9idoguRP6fdDMYbX4g/i1jvoAKVkT8mubgj94yOP9hAnVRktJA/upRmpEu6jj+kxW7GrzOTPxhe4smxCZQ/ISY1qImzjT/fh5vf52qNP4p4gBEf5oo/Dfr/EYaYiT8Y6TJHTjiOP9zKJLP2+Y0/8cVegyI6kD8GliS1fdmRP9BAMpGRmY0/IB4jFZGOjz9UE9qdGPuKP60Ws2gDWZA/gF30JZqLjz8YSSZ/FSCNPwG46zAFfZU/4u91FcGXkT9AN3rZAL6SP5rQpnM6lZE/nq23I0QlkT+3z8juZFGTP6x2VxNBKow/JG2uPAGGkD9UcU+eNDOLP2c6S9UlRpA/YfNq8Q+IlT9njaiWmRCOP6dm4wUSK40/iChh+kn4iT9sgrxyZZKOP4GTSSXvMZM/jwaMcY0KkD9shqFuRxmQPyoT2ud6tI0/WZ5dWitbkj++qkF7RU6VPzs4Cm796Y0/uJxqhFoJjD82713KgeKRPwsexBnMoIs/ZrIEAy7jiz8lzV+SSu+MP0QalldQuI4/y7MIQdLHjT/E+qSu2ZWRP17LXdPXq4c/fmEu1O35jj8HvWLZ5PGPP9vGz8TcDZE//9X16NvolT/wwdv5gjmLP2zR0aBgGI4/6WfRKtTijD8CDtUO/o6QP9kak7R3IJc/zMmJOEE7jD/9dwKJq2CLPwHHI9lsyIg/nXRmJzGKlz/79TbErCORP7vh+RsOWo0/fts/HVUBjj/Rii/h7fyNPyRuP1FsDZQ/7ldWXA+Wiz+P649bKG+LP2YGIdDTL5M/Hxex4Ngqjj+AC9QBYz6RP6Uf53vty48/kKYj2q1UkT/9SQ8kUnKCP7YMPeUj1Yo/FB6gHGtWiT/D+xZvwCSNP+KoduUETI4/drGJGKw9kD9P/WUD9OGQP8B9i6KqJo0/LnQ+xT3Cjz+ZLvZXPHCMP0uGS0crFZA/y3AbFOxxkz9oTd5Zp7WTP7p6fONbipE/yU9BmOr5ij+4tNs0d+aQPz0pi4Ux8ok/moI/A/lqjD9OanqQsweQP/4GTRKkOIw/+regLzfikD8dhuWsDw+SP4uK1gTlUJA/VpJubq8fkz/lzDm4HRGSP0LaDPObrpA/UJ+vE9IAjz/6K0QJwsaQP6/okzLf548/GHBs04GWjD9l/YSHHwOPPwnK4og59Yc/p4lw4jYPjT+T/P1N6T2KP544ymO1E44/DMnWJeMWkz9CurTqjP2SP9XTs9ZHpoo/e3uH2tU9kD9h2XoNctuSPzForOHJqY8/sF3MST9+kj+sUcvxhPiQPykxFv4Vz40/PG2q6S1ohj/vEE2DX5ySP48418OiIo0/47j8tz+9jj+D6XhV+pWNP+svRBatAZA/WwLC+UECjT8Q+hkwyuGNP2EwUosJn4w/oiPdmAqjlD9+yiOxcl2OP1iBKdiG84w/x1lIg5X7lD9oURtO3EaQP71KJPgZMJE/WEuKNfzBkD+tCgpcVcOKP5duye3uWo0/ESiyETpZkj9wvBMEYy6SP2JQVdIvXI0/qniVG8e6kD/IgXxVdleOPwLXNLniRJA/i8SPcjlpjj8vcYtmvpCQP2KB5UqfxI4/0MtWDkHIhz83ih2pPuuRP0bPSM9vmZM/lmG64c/TjD+wItuUitGPP0uO1CS7tnM/5YcnCEteij/iioNM4j+RPyv/LOi3sIk/604aaNsZiD+LcSYYh9KOP2RwoJStsI8/9yu9f2iRiz81sGWI8zqPP9VYQfY0Lo0/MIHtoEFxkT/u10SpscWSPwlXvYnp/Ik/d9T1aFBiiT9Tk1bZsnyQP8Wf8y4vr5A/wdvV25fVjj/aT3ksRuuMP0L2UD6kEYw/jSRAicCfiz8IYrlPhiaPP2JSnwebDYw/MI1w/eXyjT8XfsjLBnyPP+R/3tYMFpA/y/CJev1ikD/hY2FmzfSQPy9QotFtLpA/7W8pccESjz+eTJr2fuCLP/EKE6513ow/HENRJOTpjD9YBQ0171+MPzjOpWhqGpA/4piVILRtjT8ZSxQesaySPwRHP7HFk40/9dcam1BNkD8OLOBufsaNP1Tq2qU+b5A/mukHn9qsjj8R4+9h1+aSP4NI355OJo0/nFqBv0pOiz85Gv5LLF6RP1TZ+yhqHpI//rZTh9XDjz9PDvNVsniPP/PHPACEIJA/2yPrY80pjT/M1PED6guUPzmVLUbqVo4/h32c6JfikT9uGCklyhKMPzHzrV3mYo4/NqtYThuBkD+A19VYOeOLP1k+FuYEDIY/BHoDrZgzkT+CUck+C2SLP9eA3/8BRY8/IuHcl1v4kD+hL72ugG6LP9Iq7UYdIYw/xR1FVb5KkD9ptC1qoYeLP7RVu11YXow/Yn8SkOR4ij86k6RG/wOOPzIH3IBrs5I/lTwWR7rMjj+r+j+NM7+SPy1YKZA8Z4w/QQmBi8iJjz+c608Hgy+UP2ht8wfDioo/ltZgJYDyjz/gQNd455GUP1Grtb0KLo8/K0/cJlKvjz+pWg5si5yJP1wdsTxyKoo/DrG6wgVakD8mCf3VwoGPP2XJazLPUIs/knyPX5U8lD/NFKshCNiNP+qCa0fzY5I/OmO7d/r7iz8GuB+ZdM6JP7sjPSJ/vo8/6qSaOSLRkT857+OmCI+QP23KgC2NOY4/59J+DrLVjj/vkWzIsy+NP+nzodmHwJA/1WdUQ6h5lD+e/FlhMjOQP92vjKygxo8/dZHe1/XBjT9GhicZzsWMP5BIlj1Puo0/lKSLzOXLiD9e5r33VDiPP803/mlS3Y4//N619/msjT9jyCaYeMKXP/K175m5KpM/VHw8PdF7kT98bYlCyFaLP+DdqlpJMI8/5FmUhXuBkT9Xfsx8rV6EP4qdTNAWDos/PUnjDaksmD8V683o6AuRP65B4rQlYo4/utuwpzudjz/fxXchLuqKP5jU6PjGi5I/9gGI7RhHij+IPKAD2IiMP5LdrJ/ar5E/TmZtf9kgkT+jw50/JgCWP/GBilD0MpA/WljtokF/jz+OtabjjCSOPwwuWZwJN4Y/IXsKU8g7iD+E8z5zVTmNP2lms+TxuYo/H9hjRSyZjD9jyrXqqAeaP/CRVoS8jI8/I2laKz2pkD/Bv5Gl+qaOPzCYB12pG5A/fudWdmg9kz/7ngM/ypWWP98HYS9Zt4M/Dt8U+XSzkj/vgEvzJ8qLP/SRn+4Et44/fZ+bo9DTjj/2JsCzSBOPP1w3Wvq8CZI/K9lKR8cIkz9w55jAIsWQP5fGcKtnP48/d6BUNbTfij+aWsijwyqMP0b9b3huRYY/7ymzlJBekD/ptOODaFmPP46yvrDCh4o/Czq2iQ/XjD/O0/zASpaSP/+YUTmK+Is/zOn6HFFJij8=",
          "dtype": "f8"
         }
        }
       ],
       "layout": {
        "legend": {
         "title": {
          "text": ""
         }
        },
        "template": {
         "data": {
          "bar": [
           {
            "error_x": {
             "color": "#2a3f5f"
            },
            "error_y": {
             "color": "#2a3f5f"
            },
            "marker": {
             "line": {
              "color": "#E5ECF6",
              "width": 0.5
             },
             "pattern": {
              "fillmode": "overlay",
              "size": 10,
              "solidity": 0.2
             }
            },
            "type": "bar"
           }
          ],
          "barpolar": [
           {
            "marker": {
             "line": {
              "color": "#E5ECF6",
              "width": 0.5
             },
             "pattern": {
              "fillmode": "overlay",
              "size": 10,
              "solidity": 0.2
             }
            },
            "type": "barpolar"
           }
          ],
          "carpet": [
           {
            "aaxis": {
             "endlinecolor": "#2a3f5f",
             "gridcolor": "white",
             "linecolor": "white",
             "minorgridcolor": "white",
             "startlinecolor": "#2a3f5f"
            },
            "baxis": {
             "endlinecolor": "#2a3f5f",
             "gridcolor": "white",
             "linecolor": "white",
             "minorgridcolor": "white",
             "startlinecolor": "#2a3f5f"
            },
            "type": "carpet"
           }
          ],
          "choropleth": [
           {
            "colorbar": {
             "outlinewidth": 0,
             "ticks": ""
            },
            "type": "choropleth"
           }
          ],
          "contour": [
           {
            "colorbar": {
             "outlinewidth": 0,
             "ticks": ""
            },
            "colorscale": [
             [
              0,
              "#0d0887"
             ],
             [
              0.1111111111111111,
              "#46039f"
             ],
             [
              0.2222222222222222,
              "#7201a8"
             ],
             [
              0.3333333333333333,
              "#9c179e"
             ],
             [
              0.4444444444444444,
              "#bd3786"
             ],
             [
              0.5555555555555556,
              "#d8576b"
             ],
             [
              0.6666666666666666,
              "#ed7953"
             ],
             [
              0.7777777777777778,
              "#fb9f3a"
             ],
             [
              0.8888888888888888,
              "#fdca26"
             ],
             [
              1,
              "#f0f921"
             ]
            ],
            "type": "contour"
           }
          ],
          "contourcarpet": [
           {
            "colorbar": {
             "outlinewidth": 0,
             "ticks": ""
            },
            "type": "contourcarpet"
           }
          ],
          "heatmap": [
           {
            "colorbar": {
             "outlinewidth": 0,
             "ticks": ""
            },
            "colorscale": [
             [
              0,
              "#0d0887"
             ],
             [
              0.1111111111111111,
              "#46039f"
             ],
             [
              0.2222222222222222,
              "#7201a8"
             ],
             [
              0.3333333333333333,
              "#9c179e"
             ],
             [
              0.4444444444444444,
              "#bd3786"
             ],
             [
              0.5555555555555556,
              "#d8576b"
             ],
             [
              0.6666666666666666,
              "#ed7953"
             ],
             [
              0.7777777777777778,
              "#fb9f3a"
             ],
             [
              0.8888888888888888,
              "#fdca26"
             ],
             [
              1,
              "#f0f921"
             ]
            ],
            "type": "heatmap"
           }
          ],
          "histogram": [
           {
            "marker": {
             "pattern": {
              "fillmode": "overlay",
              "size": 10,
              "solidity": 0.2
             }
            },
            "type": "histogram"
           }
          ],
          "histogram2d": [
           {
            "colorbar": {
             "outlinewidth": 0,
             "ticks": ""
            },
            "colorscale": [
             [
              0,
              "#0d0887"
             ],
             [
              0.1111111111111111,
              "#46039f"
             ],
             [
              0.2222222222222222,
              "#7201a8"
             ],
             [
              0.3333333333333333,
              "#9c179e"
             ],
             [
              0.4444444444444444,
              "#bd3786"
             ],
             [
              0.5555555555555556,
              "#d8576b"
             ],
             [
              0.6666666666666666,
              "#ed7953"
             ],
             [
              0.7777777777777778,
              "#fb9f3a"
             ],
             [
              0.8888888888888888,
              "#fdca26"
             ],
             [
              1,
              "#f0f921"
             ]
            ],
            "type": "histogram2d"
           }
          ],
          "histogram2dcontour": [
           {
            "colorbar": {
             "outlinewidth": 0,
             "ticks": ""
            },
            "colorscale": [
             [
              0,
              "#0d0887"
             ],
             [
              0.1111111111111111,
              "#46039f"
             ],
             [
              0.2222222222222222,
              "#7201a8"
             ],
             [
              0.3333333333333333,
              "#9c179e"
             ],
             [
              0.4444444444444444,
              "#bd3786"
             ],
             [
              0.5555555555555556,
              "#d8576b"
             ],
             [
              0.6666666666666666,
              "#ed7953"
             ],
             [
              0.7777777777777778,
              "#fb9f3a"
             ],
             [
              0.8888888888888888,
              "#fdca26"
             ],
             [
              1,
              "#f0f921"
             ]
            ],
            "type": "histogram2dcontour"
           }
          ],
          "mesh3d": [
           {
            "colorbar": {
             "outlinewidth": 0,
             "ticks": ""
            },
            "type": "mesh3d"
           }
          ],
          "parcoords": [
           {
            "line": {
             "colorbar": {
              "outlinewidth": 0,
              "ticks": ""
             }
            },
            "type": "parcoords"
           }
          ],
          "pie": [
           {
            "automargin": true,
            "type": "pie"
           }
          ],
          "scatter": [
           {
            "fillpattern": {
             "fillmode": "overlay",
             "size": 10,
             "solidity": 0.2
            },
            "type": "scatter"
           }
          ],
          "scatter3d": [
           {
            "line": {
             "colorbar": {
              "outlinewidth": 0,
              "ticks": ""
             }
            },
            "marker": {
             "colorbar": {
              "outlinewidth": 0,
              "ticks": ""
             }
            },
            "type": "scatter3d"
           }
          ],
          "scattercarpet": [
           {
            "marker": {
             "colorbar": {
              "outlinewidth": 0,
              "ticks": ""
             }
            },
            "type": "scattercarpet"
           }
          ],
          "scattergeo": [
           {
            "marker": {
             "colorbar": {
              "outlinewidth": 0,
              "ticks": ""
             }
            },
            "type": "scattergeo"
           }
          ],
          "scattergl": [
           {
            "marker": {
             "colorbar": {
              "outlinewidth": 0,
              "ticks": ""
             }
            },
            "type": "scattergl"
           }
          ],
          "scattermap": [
           {
            "marker": {
             "colorbar": {
              "outlinewidth": 0,
              "ticks": ""
             }
            },
            "type": "scattermap"
           }
          ],
          "scattermapbox": [
           {
            "marker": {
             "colorbar": {
              "outlinewidth": 0,
              "ticks": ""
             }
            },
            "type": "scattermapbox"
           }
          ],
          "scatterpolar": [
           {
            "marker": {
             "colorbar": {
              "outlinewidth": 0,
              "ticks": ""
             }
            },
            "type": "scatterpolar"
           }
          ],
          "scatterpolargl": [
           {
            "marker": {
             "colorbar": {
              "outlinewidth": 0,
              "ticks": ""
             }
            },
            "type": "scatterpolargl"
           }
          ],
          "scatterternary": [
           {
            "marker": {
             "colorbar": {
              "outlinewidth": 0,
              "ticks": ""
             }
            },
            "type": "scatterternary"
           }
          ],
          "surface": [
           {
            "colorbar": {
             "outlinewidth": 0,
             "ticks": ""
            },
            "colorscale": [
             [
              0,
              "#0d0887"
             ],
             [
              0.1111111111111111,
              "#46039f"
             ],
             [
              0.2222222222222222,
              "#7201a8"
             ],
             [
              0.3333333333333333,
              "#9c179e"
             ],
             [
              0.4444444444444444,
              "#bd3786"
             ],
             [
              0.5555555555555556,
              "#d8576b"
             ],
             [
              0.6666666666666666,
              "#ed7953"
             ],
             [
              0.7777777777777778,
              "#fb9f3a"
             ],
             [
              0.8888888888888888,
              "#fdca26"
             ],
             [
              1,
              "#f0f921"
             ]
            ],
            "type": "surface"
           }
          ],
          "table": [
           {
            "cells": {
             "fill": {
              "color": "#EBF0F8"
             },
             "line": {
              "color": "white"
             }
            },
            "header": {
             "fill": {
              "color": "#C8D4E3"
             },
             "line": {
              "color": "white"
             }
            },
            "type": "table"
           }
          ]
         },
         "layout": {
          "annotationdefaults": {
           "arrowcolor": "#2a3f5f",
           "arrowhead": 0,
           "arrowwidth": 1
          },
          "autotypenumbers": "strict",
          "coloraxis": {
           "colorbar": {
            "outlinewidth": 0,
            "ticks": ""
           }
          },
          "colorscale": {
           "diverging": [
            [
             0,
             "#8e0152"
            ],
            [
             0.1,
             "#c51b7d"
            ],
            [
             0.2,
             "#de77ae"
            ],
            [
             0.3,
             "#f1b6da"
            ],
            [
             0.4,
             "#fde0ef"
            ],
            [
             0.5,
             "#f7f7f7"
            ],
            [
             0.6,
             "#e6f5d0"
            ],
            [
             0.7,
             "#b8e186"
            ],
            [
             0.8,
             "#7fbc41"
            ],
            [
             0.9,
             "#4d9221"
            ],
            [
             1,
             "#276419"
            ]
           ],
           "sequential": [
            [
             0,
             "#0d0887"
            ],
            [
             0.1111111111111111,
             "#46039f"
            ],
            [
             0.2222222222222222,
             "#7201a8"
            ],
            [
             0.3333333333333333,
             "#9c179e"
            ],
            [
             0.4444444444444444,
             "#bd3786"
            ],
            [
             0.5555555555555556,
             "#d8576b"
            ],
            [
             0.6666666666666666,
             "#ed7953"
            ],
            [
             0.7777777777777778,
             "#fb9f3a"
            ],
            [
             0.8888888888888888,
             "#fdca26"
            ],
            [
             1,
             "#f0f921"
            ]
           ],
           "sequentialminus": [
            [
             0,
             "#0d0887"
            ],
            [
             0.1111111111111111,
             "#46039f"
            ],
            [
             0.2222222222222222,
             "#7201a8"
            ],
            [
             0.3333333333333333,
             "#9c179e"
            ],
            [
             0.4444444444444444,
             "#bd3786"
            ],
            [
             0.5555555555555556,
             "#d8576b"
            ],
            [
             0.6666666666666666,
             "#ed7953"
            ],
            [
             0.7777777777777778,
             "#fb9f3a"
            ],
            [
             0.8888888888888888,
             "#fdca26"
            ],
            [
             1,
             "#f0f921"
            ]
           ]
          },
          "colorway": [
           "#636efa",
           "#EF553B",
           "#00cc96",
           "#ab63fa",
           "#FFA15A",
           "#19d3f3",
           "#FF6692",
           "#B6E880",
           "#FF97FF",
           "#FECB52"
          ],
          "font": {
           "color": "#2a3f5f"
          },
          "geo": {
           "bgcolor": "white",
           "lakecolor": "white",
           "landcolor": "#E5ECF6",
           "showlakes": true,
           "showland": true,
           "subunitcolor": "white"
          },
          "hoverlabel": {
           "align": "left"
          },
          "hovermode": "closest",
          "mapbox": {
           "style": "light"
          },
          "paper_bgcolor": "white",
          "plot_bgcolor": "#E5ECF6",
          "polar": {
           "angularaxis": {
            "gridcolor": "white",
            "linecolor": "white",
            "ticks": ""
           },
           "bgcolor": "#E5ECF6",
           "radialaxis": {
            "gridcolor": "white",
            "linecolor": "white",
            "ticks": ""
           }
          },
          "scene": {
           "xaxis": {
            "backgroundcolor": "#E5ECF6",
            "gridcolor": "white",
            "gridwidth": 2,
            "linecolor": "white",
            "showbackground": true,
            "ticks": "",
            "zerolinecolor": "white"
           },
           "yaxis": {
            "backgroundcolor": "#E5ECF6",
            "gridcolor": "white",
            "gridwidth": 2,
            "linecolor": "white",
            "showbackground": true,
            "ticks": "",
            "zerolinecolor": "white"
           },
           "zaxis": {
            "backgroundcolor": "#E5ECF6",
            "gridcolor": "white",
            "gridwidth": 2,
            "linecolor": "white",
            "showbackground": true,
            "ticks": "",
            "zerolinecolor": "white"
           }
          },
          "shapedefaults": {
           "line": {
            "color": "#2a3f5f"
           }
          },
          "ternary": {
           "aaxis": {
            "gridcolor": "white",
            "linecolor": "white",
            "ticks": ""
           },
           "baxis": {
            "gridcolor": "white",
            "linecolor": "white",
            "ticks": ""
           },
           "bgcolor": "#E5ECF6",
           "caxis": {
            "gridcolor": "white",
            "linecolor": "white",
            "ticks": ""
           }
          },
          "title": {
           "x": 0.05
          },
          "xaxis": {
           "automargin": true,
           "gridcolor": "white",
           "linecolor": "white",
           "ticks": "",
           "title": {
            "standoff": 15
           },
           "zerolinecolor": "white",
           "zerolinewidth": 2
          },
          "yaxis": {
           "automargin": true,
           "gridcolor": "white",
           "linecolor": "white",
           "ticks": "",
           "title": {
            "standoff": 15
           },
           "zerolinecolor": "white",
           "zerolinewidth": 2
          }
         }
        },
        "title": {
         "text": "Monte Carlo Simulation Results - 1000 runs - each run 10000 trades"
        },
        "xaxis": {
         "title": {
          "text": "Average Fee pct"
         }
        },
        "yaxis": {
         "title": {
          "text": "Impermanent Loss (%)"
         }
        }
       }
      }
     },
     "metadata": {},
     "output_type": "display_data"
    }
   ],
   "source": [
    "\n",
    "pool_count = monte_carlo_results_df['pool_name'].nunique()\n",
    "num_runs = int(monte_carlo_results_df.shape[0] / pool_count)\n",
    "trade_count = max(monte_carlo_results_df['trade_number'])+1\n",
    "fig = get_xy_fig(monte_carlo_results_df, 'average_fee_pct', 'impermanent_loss_pct', f'Monte Carlo Simulation Results - {num_runs} runs - each run {trade_count} trades', 'Average Fee pct', 'Impermanent Loss (%)')\n",
    "\n",
    "fig.show()"
   ]
  }
 ],
 "metadata": {
  "kernelspec": {
   "display_name": "no-gamma-hook-v4",
   "language": "python",
   "name": "python3"
  },
  "language_info": {
   "codemirror_mode": {
    "name": "ipython",
    "version": 3
   },
   "file_extension": ".py",
   "mimetype": "text/x-python",
   "name": "python",
   "nbconvert_exporter": "python",
   "pygments_lexer": "ipython3",
   "version": "3.13.2"
  }
 },
 "nbformat": 4,
 "nbformat_minor": 2
}
