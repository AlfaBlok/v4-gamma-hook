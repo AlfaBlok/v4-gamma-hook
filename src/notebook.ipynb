{
 "cells": [
  {
   "cell_type": "code",
   "execution_count": 3,
   "metadata": {},
   "outputs": [],
   "source": [
    "import sys\n",
    "import os\n",
    "\n",
    "# Add project root to sys.path\n",
    "notebook_dir = os.getcwd() \n",
    "project_root = os.path.abspath(os.path.join(notebook_dir, '..')) \n",
    "if project_root not in sys.path:\n",
    "    sys.path.insert(0, project_root)\n",
    "\n",
    "from src.models.v2_pool import UniswapV2Pool\n",
    "from src.models.v4_gamma_pool import v4_gamma_hook_pool\n",
    "from src.models.buy_and_hold import BuyAndHold\n",
    "from src.utils.clean import sweep_swap_amount_range, get_symbol, get_xy_fig, get_bh_df\n",
    "import plotly.express as px\n",
    "import pandas as pd\n",
    "import numpy as np  \n",
    "import plotly.graph_objects as go\n"
   ]
  },
  {
   "cell_type": "code",
   "execution_count": null,
   "metadata": {},
   "outputs": [],
   "source": [
    "parameters = {\n",
    "    'fee_pct': 0.003, # Example: 30% fee for clear effect in plot ONLY AFFECT V2POOL with FEE   \n",
    "    'initial_x': float(100), # 1 hunded USDC\n",
    "    'initial_y': float(1),   # 1 ARB\n",
    "    'num_points': 1000, # Number of relative amounts to test\n",
    "    'max_relative_amount': 2, # Test swaps with amount_in up to 5x of reserve\n",
    "    'gamma_factor': 0.3 # 30% gamma factor for clear effect in plot ONLY AFFECT V4 GAMMA POOL with GEE\n",
    "}\n",
    "\n",
    "v2_pool_0_fee = UniswapV2Pool(parameters, is_zero_fee=True)\n",
    "v2_swap_sweep_results_0_fee_df = sweep_swap_amount_range(v2_pool_0_fee,parameters)\n",
    "v2_swap_sweep_results_0_fee_df['O_R']=0\n",
    "\n",
    "# Calculate 'O_R' using vectorized operations with np.where\n",
    "condition = v2_swap_sweep_results_0_fee_df['token_in_is_USDC'] == True\n",
    "value_if_true = v2_swap_sweep_results_0_fee_df['amount_out'] / v2_swap_sweep_results_0_fee_df['new_y']\n",
    "value_if_false = v2_swap_sweep_results_0_fee_df['amount_in'] / v2_swap_sweep_results_0_fee_df['new_y']\n",
    "\n",
    "v2_swap_sweep_results_0_fee_df['O_R'] = np.where(condition, value_if_true, value_if_false)\n",
    "\n",
    "\n",
    "fig = get_xy_fig(v2_swap_sweep_results_0_fee_df,'O_R','IL_O', 'OrderSize to Reseve vs IL to OrderSize','Order pct of Reserve','IL pct of Order')\n",
    "fig.update_layout(\n",
    "    xaxis_range=[0, 1],\n",
    "    yaxis_range=[0, 1]\n",
    ")\n",
    "fig.show()"
   ]
  },
  {
   "cell_type": "code",
   "execution_count": 3,
   "metadata": {},
   "outputs": [],
   "source": [
    "\n",
    "\n",
    "\n",
    "v2_pool_0_fee = UniswapV2Pool(parameters, is_zero_fee=True)\n",
    "v2_swap_sweep_results_0_fee_df = sweep_swap_amount_range(v2_pool_0_fee,parameters)\n",
    "\n",
    "v2_pool_flat_fee = UniswapV2Pool(parameters, is_zero_fee=False)\n",
    "v2_swap_sweep_results_f_fee_df = sweep_swap_amount_range(v2_pool_flat_fee,parameters)\n",
    "\n",
    "v4_gamma_hook_pool_0_gamma = v4_gamma_hook_pool(parameters, is_zero_gee=True)\n",
    "v4_gamma_hook_sweep_results_0_gee_gamma_df = sweep_swap_amount_range(v4_gamma_hook_pool_0_gamma,parameters)\n",
    "\n",
    "v4_gamma_hook_pool_gamma = v4_gamma_hook_pool(parameters, is_zero_gee=False)\n",
    "v4_gamma_hook_sweep_results_g_gee_gamma_df = sweep_swap_amount_range(v4_gamma_hook_pool_gamma,parameters)\n",
    "\n",
    "buy_and_hold = BuyAndHold(parameters)\n",
    "buy_and_hold_df = get_bh_df(buy_and_hold, v2_swap_sweep_results_0_fee_df)\n",
    "\n",
    "\n",
    "\n",
    "joint_df = pd.concat([\n",
    "    v2_swap_sweep_results_0_fee_df, \n",
    "    v2_swap_sweep_results_f_fee_df, \n",
    "    v4_gamma_hook_sweep_results_0_gee_gamma_df, \n",
    "    v4_gamma_hook_sweep_results_g_gee_gamma_df, \n",
    "    buy_and_hold_df])\n"
   ]
  },
  {
   "cell_type": "code",
   "execution_count": null,
   "metadata": {},
   "outputs": [],
   "source": [
    "fig = get_xy_fig(joint_df, 'new_price', 'lp_value', 'LP Value vs. New Price (1 swap)', 'ARB Price ($)', 'Holder Value ($)')\n",
    "fig.update_layout(\n",
    "    xaxis_range=[0, 300],\n",
    "    yaxis_range=[0, 400]\n",
    ")\n",
    "\n",
    "fig.show()"
   ]
  },
  {
   "cell_type": "code",
   "execution_count": null,
   "metadata": {},
   "outputs": [],
   "source": [
    "# this plot requires for very extreme max_relative amount to reveal iteself fully - please adjust parameters and increase max_relative amount and num_points to see the full plot. Leaving defaults \n",
    "fig = get_xy_fig(joint_df, 'new_x', 'new_y', 'XY for 1 swap', 'new_x', 'new_y')    \n",
    "\n",
    "fig.update_layout(\n",
    "    yaxis_range=[0, 100],\n",
    "    xaxis_range=[0, 100]\n",
    ")\n",
    "\n",
    "fig.show()"
   ]
  },
  {
   "cell_type": "markdown",
   "metadata": {},
   "source": [
    "### Now we look at how the Gamma of each scenario behaves\n"
   ]
  },
  {
   "cell_type": "code",
   "execution_count": null,
   "metadata": {},
   "outputs": [],
   "source": [
    "fig = get_xy_fig(joint_df, 'new_price', 'gamma', 'Gamma vs. Price', 'ARB Price ($)', 'Gamma')\n",
    "\n",
    "fig.update_layout(\n",
    "    yaxis_range=[-0.001, 0.001]\n",
    ")\n",
    "fig.show()\n",
    "\n",
    "\n",
    "\n",
    "\n"
   ]
  },
  {
   "cell_type": "code",
   "execution_count": null,
   "metadata": {},
   "outputs": [],
   "source": [
    "fig = get_xy_fig(joint_df, 'new_price', 'delta', 'Delta vs. New Price', 'ARB Price ($)', 'delta')\n",
    "\n",
    "fig.update_layout(\n",
    "    yaxis_range=[-1, 3],\n",
    "    xaxis_range=[0, 200]\n",
    ")\n",
    "\n",
    "fig.show()"
   ]
  },
  {
   "cell_type": "code",
   "execution_count": null,
   "metadata": {},
   "outputs": [],
   "source": [
    "fig = get_xy_fig(joint_df, 'order_size_usdc', 'swap_price', 'Order Size vs Price', 'Order Size (USDC)', 'Price ARB ($)')\n",
    "\n",
    "fig.update_layout(\n",
    "    yaxis_range=[0, 300],\n",
    "    xaxis_range=[-100, 100]\n",
    ")\n",
    "\n",
    "fig.show()"
   ]
  },
  {
   "cell_type": "code",
   "execution_count": null,
   "metadata": {},
   "outputs": [],
   "source": [
    "fig = get_xy_fig(joint_df, 'order_size_usdc', 'impermanent_loss_usdc', 'Order Size vs Impermanent Loss', 'Order Size (USDC)', 'Impermanent Loss ($)')\n",
    "\n",
    "fig.update_layout(\n",
    "    yaxis_range=[-100, 100]\n",
    ")\n",
    "\n",
    "fig.show()"
   ]
  },
  {
   "cell_type": "code",
   "execution_count": null,
   "metadata": {},
   "outputs": [],
   "source": [
    "fig = get_xy_fig(joint_df, 'new_price', 'impermanent_loss_usdc', 'Price vs Impermanent Loss', 'Price ARB ($)', 'Impermanent Loss ($)')\n",
    "\n",
    "fig.update_layout(\n",
    "    yaxis_range=[-100, 100],\n",
    "    xaxis_range=[0, 200]\n",
    ")\n",
    "\n",
    "fig.show()"
   ]
  },
  {
   "cell_type": "code",
   "execution_count": null,
   "metadata": {},
   "outputs": [],
   "source": [
    "fig = get_xy_fig(joint_df, 'relative_amount_in', 'impermanent_loss_usdc', 'Relative Amount vs Impermanent Loss', 'Relative Amount (Order Size / Reserve)', 'Impermanent Loss ($)')\n",
    "\n",
    "fig.update_layout(\n",
    "    yaxis_range=[-100, 100]\n",
    ")\n",
    "\n",
    "fig.show()"
   ]
  },
  {
   "cell_type": "code",
   "execution_count": null,
   "metadata": {},
   "outputs": [],
   "source": [
    "fig = get_xy_fig(joint_df, 'relative_amount_in', 'total_fee_pct', 'Fee pct on incoming order', 'Relative Amount (Order Size / Reserve)', 'Fee pct')\n",
    "\n",
    "fig.update_layout(\n",
    "    xaxis_range=[-1, 1],\n",
    "    yaxis_range=[-1, 1]\n",
    ")\n",
    "\n",
    "fig.show()"
   ]
  },
  {
   "cell_type": "markdown",
   "metadata": {},
   "source": [
    "### SIMULATION TRADES\n"
   ]
  },
  {
   "cell_type": "code",
   "execution_count": 4,
   "metadata": {},
   "outputs": [
    {
     "name": "stdout",
     "output_type": "stream",
     "text": [
      "Reading data from: /Users/jordi/Documents/GitHub/v4-gamma-hook/data/swap_fee_data.csv\n",
      "Reading data from: /Users/jordi/Documents/GitHub/v4-gamma-hook/data/swap_fee_data.csv\n"
     ]
    }
   ],
   "source": [
    "from utils.clean import generate_arb_trades, generate_usdc_trades, simulate_trade_sequence, get_3_plots, get_xy_fig\n",
    "from models.v2_pool import UniswapV2Pool\n",
    "from models.v4_gamma_pool import v4_gamma_hook_pool\n",
    "from utils.clean import run_simulation \n",
    "import pandas as pd\n",
    "\n",
    "parameters = {\n",
    "    'num_trades_to_simulate': 15000, # Or use the desired number\n",
    "    'fee_pct': 0.003, # Using 30% fee for clear effect in plot ONLY AFFECT V2POOL with FEE\n",
    "    'initial_x': 100,  # 100 USDC\n",
    "    'initial_y': 100,   # 100 ARB (as starting point, 1 ARB worth 1 USDC for easy math and same scale visuals)\n",
    "    'gamma_factor': 0.3 # 30% gamma factor for clear effect in plot ONLY AFFECT V4 GAMMA POOL with GEE\n",
    "}\n",
    "\n",
    "arb_samples = generate_arb_trades(parameters['num_trades_to_simulate'])\n",
    "arb_samples = arb_samples[arb_samples > 0]\n",
    "usdc_samples = generate_usdc_trades(parameters['num_trades_to_simulate'])\n",
    "usdc_samples = usdc_samples[usdc_samples > 0]\n",
    "\n",
    "num_plot_trades = int(parameters['num_trades_to_simulate']*0.45) # Keep this smaller for faster initial testing/plotting if needed - also only positives showing\n",
    "arb_samples_run = arb_samples[:num_plot_trades]\n",
    "usdc_samples_run = usdc_samples[:num_plot_trades]\n"
   ]
  },
  {
   "cell_type": "code",
   "execution_count": 13,
   "metadata": {},
   "outputs": [
    {
     "data": {
      "application/vnd.plotly.v1+json": {
       "config": {
        "plotlyServerURL": "https://plot.ly"
       },
       "data": [
        {
         "marker": {
          "color": "#636EFA",
          "size": 7,
          "symbol": "circle"
         },
         "mode": "markers",
         "name": "v2_pool_f=0.0",
         "type": "scatter",
         "x": {
          "bdata": "AAECAw==",
          "dtype": "i1"
         },
         "y": {
          "bdata": "AAAAAAAANEAAAAAAAAA5QAAAAAAAADRAAAAAAAAAOUA=",
          "dtype": "f8"
         }
        }
       ],
       "layout": {
        "legend": {
         "title": {
          "text": ""
         }
        },
        "template": {
         "data": {
          "bar": [
           {
            "error_x": {
             "color": "#2a3f5f"
            },
            "error_y": {
             "color": "#2a3f5f"
            },
            "marker": {
             "line": {
              "color": "#E5ECF6",
              "width": 0.5
             },
             "pattern": {
              "fillmode": "overlay",
              "size": 10,
              "solidity": 0.2
             }
            },
            "type": "bar"
           }
          ],
          "barpolar": [
           {
            "marker": {
             "line": {
              "color": "#E5ECF6",
              "width": 0.5
             },
             "pattern": {
              "fillmode": "overlay",
              "size": 10,
              "solidity": 0.2
             }
            },
            "type": "barpolar"
           }
          ],
          "carpet": [
           {
            "aaxis": {
             "endlinecolor": "#2a3f5f",
             "gridcolor": "white",
             "linecolor": "white",
             "minorgridcolor": "white",
             "startlinecolor": "#2a3f5f"
            },
            "baxis": {
             "endlinecolor": "#2a3f5f",
             "gridcolor": "white",
             "linecolor": "white",
             "minorgridcolor": "white",
             "startlinecolor": "#2a3f5f"
            },
            "type": "carpet"
           }
          ],
          "choropleth": [
           {
            "colorbar": {
             "outlinewidth": 0,
             "ticks": ""
            },
            "type": "choropleth"
           }
          ],
          "contour": [
           {
            "colorbar": {
             "outlinewidth": 0,
             "ticks": ""
            },
            "colorscale": [
             [
              0,
              "#0d0887"
             ],
             [
              0.1111111111111111,
              "#46039f"
             ],
             [
              0.2222222222222222,
              "#7201a8"
             ],
             [
              0.3333333333333333,
              "#9c179e"
             ],
             [
              0.4444444444444444,
              "#bd3786"
             ],
             [
              0.5555555555555556,
              "#d8576b"
             ],
             [
              0.6666666666666666,
              "#ed7953"
             ],
             [
              0.7777777777777778,
              "#fb9f3a"
             ],
             [
              0.8888888888888888,
              "#fdca26"
             ],
             [
              1,
              "#f0f921"
             ]
            ],
            "type": "contour"
           }
          ],
          "contourcarpet": [
           {
            "colorbar": {
             "outlinewidth": 0,
             "ticks": ""
            },
            "type": "contourcarpet"
           }
          ],
          "heatmap": [
           {
            "colorbar": {
             "outlinewidth": 0,
             "ticks": ""
            },
            "colorscale": [
             [
              0,
              "#0d0887"
             ],
             [
              0.1111111111111111,
              "#46039f"
             ],
             [
              0.2222222222222222,
              "#7201a8"
             ],
             [
              0.3333333333333333,
              "#9c179e"
             ],
             [
              0.4444444444444444,
              "#bd3786"
             ],
             [
              0.5555555555555556,
              "#d8576b"
             ],
             [
              0.6666666666666666,
              "#ed7953"
             ],
             [
              0.7777777777777778,
              "#fb9f3a"
             ],
             [
              0.8888888888888888,
              "#fdca26"
             ],
             [
              1,
              "#f0f921"
             ]
            ],
            "type": "heatmap"
           }
          ],
          "histogram": [
           {
            "marker": {
             "pattern": {
              "fillmode": "overlay",
              "size": 10,
              "solidity": 0.2
             }
            },
            "type": "histogram"
           }
          ],
          "histogram2d": [
           {
            "colorbar": {
             "outlinewidth": 0,
             "ticks": ""
            },
            "colorscale": [
             [
              0,
              "#0d0887"
             ],
             [
              0.1111111111111111,
              "#46039f"
             ],
             [
              0.2222222222222222,
              "#7201a8"
             ],
             [
              0.3333333333333333,
              "#9c179e"
             ],
             [
              0.4444444444444444,
              "#bd3786"
             ],
             [
              0.5555555555555556,
              "#d8576b"
             ],
             [
              0.6666666666666666,
              "#ed7953"
             ],
             [
              0.7777777777777778,
              "#fb9f3a"
             ],
             [
              0.8888888888888888,
              "#fdca26"
             ],
             [
              1,
              "#f0f921"
             ]
            ],
            "type": "histogram2d"
           }
          ],
          "histogram2dcontour": [
           {
            "colorbar": {
             "outlinewidth": 0,
             "ticks": ""
            },
            "colorscale": [
             [
              0,
              "#0d0887"
             ],
             [
              0.1111111111111111,
              "#46039f"
             ],
             [
              0.2222222222222222,
              "#7201a8"
             ],
             [
              0.3333333333333333,
              "#9c179e"
             ],
             [
              0.4444444444444444,
              "#bd3786"
             ],
             [
              0.5555555555555556,
              "#d8576b"
             ],
             [
              0.6666666666666666,
              "#ed7953"
             ],
             [
              0.7777777777777778,
              "#fb9f3a"
             ],
             [
              0.8888888888888888,
              "#fdca26"
             ],
             [
              1,
              "#f0f921"
             ]
            ],
            "type": "histogram2dcontour"
           }
          ],
          "mesh3d": [
           {
            "colorbar": {
             "outlinewidth": 0,
             "ticks": ""
            },
            "type": "mesh3d"
           }
          ],
          "parcoords": [
           {
            "line": {
             "colorbar": {
              "outlinewidth": 0,
              "ticks": ""
             }
            },
            "type": "parcoords"
           }
          ],
          "pie": [
           {
            "automargin": true,
            "type": "pie"
           }
          ],
          "scatter": [
           {
            "fillpattern": {
             "fillmode": "overlay",
             "size": 10,
             "solidity": 0.2
            },
            "type": "scatter"
           }
          ],
          "scatter3d": [
           {
            "line": {
             "colorbar": {
              "outlinewidth": 0,
              "ticks": ""
             }
            },
            "marker": {
             "colorbar": {
              "outlinewidth": 0,
              "ticks": ""
             }
            },
            "type": "scatter3d"
           }
          ],
          "scattercarpet": [
           {
            "marker": {
             "colorbar": {
              "outlinewidth": 0,
              "ticks": ""
             }
            },
            "type": "scattercarpet"
           }
          ],
          "scattergeo": [
           {
            "marker": {
             "colorbar": {
              "outlinewidth": 0,
              "ticks": ""
             }
            },
            "type": "scattergeo"
           }
          ],
          "scattergl": [
           {
            "marker": {
             "colorbar": {
              "outlinewidth": 0,
              "ticks": ""
             }
            },
            "type": "scattergl"
           }
          ],
          "scattermap": [
           {
            "marker": {
             "colorbar": {
              "outlinewidth": 0,
              "ticks": ""
             }
            },
            "type": "scattermap"
           }
          ],
          "scattermapbox": [
           {
            "marker": {
             "colorbar": {
              "outlinewidth": 0,
              "ticks": ""
             }
            },
            "type": "scattermapbox"
           }
          ],
          "scatterpolar": [
           {
            "marker": {
             "colorbar": {
              "outlinewidth": 0,
              "ticks": ""
             }
            },
            "type": "scatterpolar"
           }
          ],
          "scatterpolargl": [
           {
            "marker": {
             "colorbar": {
              "outlinewidth": 0,
              "ticks": ""
             }
            },
            "type": "scatterpolargl"
           }
          ],
          "scatterternary": [
           {
            "marker": {
             "colorbar": {
              "outlinewidth": 0,
              "ticks": ""
             }
            },
            "type": "scatterternary"
           }
          ],
          "surface": [
           {
            "colorbar": {
             "outlinewidth": 0,
             "ticks": ""
            },
            "colorscale": [
             [
              0,
              "#0d0887"
             ],
             [
              0.1111111111111111,
              "#46039f"
             ],
             [
              0.2222222222222222,
              "#7201a8"
             ],
             [
              0.3333333333333333,
              "#9c179e"
             ],
             [
              0.4444444444444444,
              "#bd3786"
             ],
             [
              0.5555555555555556,
              "#d8576b"
             ],
             [
              0.6666666666666666,
              "#ed7953"
             ],
             [
              0.7777777777777778,
              "#fb9f3a"
             ],
             [
              0.8888888888888888,
              "#fdca26"
             ],
             [
              1,
              "#f0f921"
             ]
            ],
            "type": "surface"
           }
          ],
          "table": [
           {
            "cells": {
             "fill": {
              "color": "#EBF0F8"
             },
             "line": {
              "color": "white"
             }
            },
            "header": {
             "fill": {
              "color": "#C8D4E3"
             },
             "line": {
              "color": "white"
             }
            },
            "type": "table"
           }
          ]
         },
         "layout": {
          "annotationdefaults": {
           "arrowcolor": "#2a3f5f",
           "arrowhead": 0,
           "arrowwidth": 1
          },
          "autotypenumbers": "strict",
          "coloraxis": {
           "colorbar": {
            "outlinewidth": 0,
            "ticks": ""
           }
          },
          "colorscale": {
           "diverging": [
            [
             0,
             "#8e0152"
            ],
            [
             0.1,
             "#c51b7d"
            ],
            [
             0.2,
             "#de77ae"
            ],
            [
             0.3,
             "#f1b6da"
            ],
            [
             0.4,
             "#fde0ef"
            ],
            [
             0.5,
             "#f7f7f7"
            ],
            [
             0.6,
             "#e6f5d0"
            ],
            [
             0.7,
             "#b8e186"
            ],
            [
             0.8,
             "#7fbc41"
            ],
            [
             0.9,
             "#4d9221"
            ],
            [
             1,
             "#276419"
            ]
           ],
           "sequential": [
            [
             0,
             "#0d0887"
            ],
            [
             0.1111111111111111,
             "#46039f"
            ],
            [
             0.2222222222222222,
             "#7201a8"
            ],
            [
             0.3333333333333333,
             "#9c179e"
            ],
            [
             0.4444444444444444,
             "#bd3786"
            ],
            [
             0.5555555555555556,
             "#d8576b"
            ],
            [
             0.6666666666666666,
             "#ed7953"
            ],
            [
             0.7777777777777778,
             "#fb9f3a"
            ],
            [
             0.8888888888888888,
             "#fdca26"
            ],
            [
             1,
             "#f0f921"
            ]
           ],
           "sequentialminus": [
            [
             0,
             "#0d0887"
            ],
            [
             0.1111111111111111,
             "#46039f"
            ],
            [
             0.2222222222222222,
             "#7201a8"
            ],
            [
             0.3333333333333333,
             "#9c179e"
            ],
            [
             0.4444444444444444,
             "#bd3786"
            ],
            [
             0.5555555555555556,
             "#d8576b"
            ],
            [
             0.6666666666666666,
             "#ed7953"
            ],
            [
             0.7777777777777778,
             "#fb9f3a"
            ],
            [
             0.8888888888888888,
             "#fdca26"
            ],
            [
             1,
             "#f0f921"
            ]
           ]
          },
          "colorway": [
           "#636efa",
           "#EF553B",
           "#00cc96",
           "#ab63fa",
           "#FFA15A",
           "#19d3f3",
           "#FF6692",
           "#B6E880",
           "#FF97FF",
           "#FECB52"
          ],
          "font": {
           "color": "#2a3f5f"
          },
          "geo": {
           "bgcolor": "white",
           "lakecolor": "white",
           "landcolor": "#E5ECF6",
           "showlakes": true,
           "showland": true,
           "subunitcolor": "white"
          },
          "hoverlabel": {
           "align": "left"
          },
          "hovermode": "closest",
          "mapbox": {
           "style": "light"
          },
          "paper_bgcolor": "white",
          "plot_bgcolor": "#E5ECF6",
          "polar": {
           "angularaxis": {
            "gridcolor": "white",
            "linecolor": "white",
            "ticks": ""
           },
           "bgcolor": "#E5ECF6",
           "radialaxis": {
            "gridcolor": "white",
            "linecolor": "white",
            "ticks": ""
           }
          },
          "scene": {
           "xaxis": {
            "backgroundcolor": "#E5ECF6",
            "gridcolor": "white",
            "gridwidth": 2,
            "linecolor": "white",
            "showbackground": true,
            "ticks": "",
            "zerolinecolor": "white"
           },
           "yaxis": {
            "backgroundcolor": "#E5ECF6",
            "gridcolor": "white",
            "gridwidth": 2,
            "linecolor": "white",
            "showbackground": true,
            "ticks": "",
            "zerolinecolor": "white"
           },
           "zaxis": {
            "backgroundcolor": "#E5ECF6",
            "gridcolor": "white",
            "gridwidth": 2,
            "linecolor": "white",
            "showbackground": true,
            "ticks": "",
            "zerolinecolor": "white"
           }
          },
          "shapedefaults": {
           "line": {
            "color": "#2a3f5f"
           }
          },
          "ternary": {
           "aaxis": {
            "gridcolor": "white",
            "linecolor": "white",
            "ticks": ""
           },
           "baxis": {
            "gridcolor": "white",
            "linecolor": "white",
            "ticks": ""
           },
           "bgcolor": "#E5ECF6",
           "caxis": {
            "gridcolor": "white",
            "linecolor": "white",
            "ticks": ""
           }
          },
          "title": {
           "x": 0.05
          },
          "xaxis": {
           "automargin": true,
           "gridcolor": "white",
           "linecolor": "white",
           "ticks": "",
           "title": {
            "standoff": 15
           },
           "zerolinecolor": "white",
           "zerolinewidth": 2
          },
          "yaxis": {
           "automargin": true,
           "gridcolor": "white",
           "linecolor": "white",
           "ticks": "",
           "title": {
            "standoff": 15
           },
           "zerolinecolor": "white",
           "zerolinewidth": 2
          }
         }
        },
        "title": {
         "text": "Amount out vs Trade Number"
        },
        "xaxis": {
         "title": {
          "text": "Trade Number"
         }
        },
        "yaxis": {
         "title": {
          "text": "Amount out"
         }
        }
       }
      }
     },
     "metadata": {},
     "output_type": "display_data"
    }
   ],
   "source": [
    "usdc_repeats=[0.25,0.25,0.25,0.25]\n",
    "# We start with a zero fee pool\n",
    "pool = UniswapV2Pool(parameters, is_zero_fee=True)\n",
    "\n",
    "trade_simulation_0_fee = simulate_trade_sequence(\n",
    "    pool,\n",
    "    usdc_repeats,\n",
    "    usdc_repeats,\n",
    "    parameters\n",
    ")\n",
    "\n",
    "fig = get_xy_fig(trade_simulation_0_fee, 'trade_number', 'amount_out', 'Amount out vs Trade Number', 'Trade Number', 'Amount out')\n",
    "fig.show()\n"
   ]
  },
  {
   "cell_type": "code",
   "execution_count": 26,
   "metadata": {},
   "outputs": [
    {
     "data": {
      "application/vnd.plotly.v1+json": {
       "config": {
        "plotlyServerURL": "https://plot.ly"
       },
       "data": [
        {
         "marker": {
          "color": "#636EFA",
          "size": 7,
          "symbol": "cross"
         },
         "mode": "markers",
         "name": "v4_gamma_pool_g=0",
         "type": "scatter",
         "x": {
          "bdata": "AAECAw==",
          "dtype": "i1"
         },
         "y": {
          "bdata": "AAAAAAAAMEDWfDm9wt4mQIlZ+Ff3KCFArqM0RA+BQ0A=",
          "dtype": "f8"
         }
        }
       ],
       "layout": {
        "legend": {
         "title": {
          "text": ""
         }
        },
        "template": {
         "data": {
          "bar": [
           {
            "error_x": {
             "color": "#2a3f5f"
            },
            "error_y": {
             "color": "#2a3f5f"
            },
            "marker": {
             "line": {
              "color": "#E5ECF6",
              "width": 0.5
             },
             "pattern": {
              "fillmode": "overlay",
              "size": 10,
              "solidity": 0.2
             }
            },
            "type": "bar"
           }
          ],
          "barpolar": [
           {
            "marker": {
             "line": {
              "color": "#E5ECF6",
              "width": 0.5
             },
             "pattern": {
              "fillmode": "overlay",
              "size": 10,
              "solidity": 0.2
             }
            },
            "type": "barpolar"
           }
          ],
          "carpet": [
           {
            "aaxis": {
             "endlinecolor": "#2a3f5f",
             "gridcolor": "white",
             "linecolor": "white",
             "minorgridcolor": "white",
             "startlinecolor": "#2a3f5f"
            },
            "baxis": {
             "endlinecolor": "#2a3f5f",
             "gridcolor": "white",
             "linecolor": "white",
             "minorgridcolor": "white",
             "startlinecolor": "#2a3f5f"
            },
            "type": "carpet"
           }
          ],
          "choropleth": [
           {
            "colorbar": {
             "outlinewidth": 0,
             "ticks": ""
            },
            "type": "choropleth"
           }
          ],
          "contour": [
           {
            "colorbar": {
             "outlinewidth": 0,
             "ticks": ""
            },
            "colorscale": [
             [
              0,
              "#0d0887"
             ],
             [
              0.1111111111111111,
              "#46039f"
             ],
             [
              0.2222222222222222,
              "#7201a8"
             ],
             [
              0.3333333333333333,
              "#9c179e"
             ],
             [
              0.4444444444444444,
              "#bd3786"
             ],
             [
              0.5555555555555556,
              "#d8576b"
             ],
             [
              0.6666666666666666,
              "#ed7953"
             ],
             [
              0.7777777777777778,
              "#fb9f3a"
             ],
             [
              0.8888888888888888,
              "#fdca26"
             ],
             [
              1,
              "#f0f921"
             ]
            ],
            "type": "contour"
           }
          ],
          "contourcarpet": [
           {
            "colorbar": {
             "outlinewidth": 0,
             "ticks": ""
            },
            "type": "contourcarpet"
           }
          ],
          "heatmap": [
           {
            "colorbar": {
             "outlinewidth": 0,
             "ticks": ""
            },
            "colorscale": [
             [
              0,
              "#0d0887"
             ],
             [
              0.1111111111111111,
              "#46039f"
             ],
             [
              0.2222222222222222,
              "#7201a8"
             ],
             [
              0.3333333333333333,
              "#9c179e"
             ],
             [
              0.4444444444444444,
              "#bd3786"
             ],
             [
              0.5555555555555556,
              "#d8576b"
             ],
             [
              0.6666666666666666,
              "#ed7953"
             ],
             [
              0.7777777777777778,
              "#fb9f3a"
             ],
             [
              0.8888888888888888,
              "#fdca26"
             ],
             [
              1,
              "#f0f921"
             ]
            ],
            "type": "heatmap"
           }
          ],
          "histogram": [
           {
            "marker": {
             "pattern": {
              "fillmode": "overlay",
              "size": 10,
              "solidity": 0.2
             }
            },
            "type": "histogram"
           }
          ],
          "histogram2d": [
           {
            "colorbar": {
             "outlinewidth": 0,
             "ticks": ""
            },
            "colorscale": [
             [
              0,
              "#0d0887"
             ],
             [
              0.1111111111111111,
              "#46039f"
             ],
             [
              0.2222222222222222,
              "#7201a8"
             ],
             [
              0.3333333333333333,
              "#9c179e"
             ],
             [
              0.4444444444444444,
              "#bd3786"
             ],
             [
              0.5555555555555556,
              "#d8576b"
             ],
             [
              0.6666666666666666,
              "#ed7953"
             ],
             [
              0.7777777777777778,
              "#fb9f3a"
             ],
             [
              0.8888888888888888,
              "#fdca26"
             ],
             [
              1,
              "#f0f921"
             ]
            ],
            "type": "histogram2d"
           }
          ],
          "histogram2dcontour": [
           {
            "colorbar": {
             "outlinewidth": 0,
             "ticks": ""
            },
            "colorscale": [
             [
              0,
              "#0d0887"
             ],
             [
              0.1111111111111111,
              "#46039f"
             ],
             [
              0.2222222222222222,
              "#7201a8"
             ],
             [
              0.3333333333333333,
              "#9c179e"
             ],
             [
              0.4444444444444444,
              "#bd3786"
             ],
             [
              0.5555555555555556,
              "#d8576b"
             ],
             [
              0.6666666666666666,
              "#ed7953"
             ],
             [
              0.7777777777777778,
              "#fb9f3a"
             ],
             [
              0.8888888888888888,
              "#fdca26"
             ],
             [
              1,
              "#f0f921"
             ]
            ],
            "type": "histogram2dcontour"
           }
          ],
          "mesh3d": [
           {
            "colorbar": {
             "outlinewidth": 0,
             "ticks": ""
            },
            "type": "mesh3d"
           }
          ],
          "parcoords": [
           {
            "line": {
             "colorbar": {
              "outlinewidth": 0,
              "ticks": ""
             }
            },
            "type": "parcoords"
           }
          ],
          "pie": [
           {
            "automargin": true,
            "type": "pie"
           }
          ],
          "scatter": [
           {
            "fillpattern": {
             "fillmode": "overlay",
             "size": 10,
             "solidity": 0.2
            },
            "type": "scatter"
           }
          ],
          "scatter3d": [
           {
            "line": {
             "colorbar": {
              "outlinewidth": 0,
              "ticks": ""
             }
            },
            "marker": {
             "colorbar": {
              "outlinewidth": 0,
              "ticks": ""
             }
            },
            "type": "scatter3d"
           }
          ],
          "scattercarpet": [
           {
            "marker": {
             "colorbar": {
              "outlinewidth": 0,
              "ticks": ""
             }
            },
            "type": "scattercarpet"
           }
          ],
          "scattergeo": [
           {
            "marker": {
             "colorbar": {
              "outlinewidth": 0,
              "ticks": ""
             }
            },
            "type": "scattergeo"
           }
          ],
          "scattergl": [
           {
            "marker": {
             "colorbar": {
              "outlinewidth": 0,
              "ticks": ""
             }
            },
            "type": "scattergl"
           }
          ],
          "scattermap": [
           {
            "marker": {
             "colorbar": {
              "outlinewidth": 0,
              "ticks": ""
             }
            },
            "type": "scattermap"
           }
          ],
          "scattermapbox": [
           {
            "marker": {
             "colorbar": {
              "outlinewidth": 0,
              "ticks": ""
             }
            },
            "type": "scattermapbox"
           }
          ],
          "scatterpolar": [
           {
            "marker": {
             "colorbar": {
              "outlinewidth": 0,
              "ticks": ""
             }
            },
            "type": "scatterpolar"
           }
          ],
          "scatterpolargl": [
           {
            "marker": {
             "colorbar": {
              "outlinewidth": 0,
              "ticks": ""
             }
            },
            "type": "scatterpolargl"
           }
          ],
          "scatterternary": [
           {
            "marker": {
             "colorbar": {
              "outlinewidth": 0,
              "ticks": ""
             }
            },
            "type": "scatterternary"
           }
          ],
          "surface": [
           {
            "colorbar": {
             "outlinewidth": 0,
             "ticks": ""
            },
            "colorscale": [
             [
              0,
              "#0d0887"
             ],
             [
              0.1111111111111111,
              "#46039f"
             ],
             [
              0.2222222222222222,
              "#7201a8"
             ],
             [
              0.3333333333333333,
              "#9c179e"
             ],
             [
              0.4444444444444444,
              "#bd3786"
             ],
             [
              0.5555555555555556,
              "#d8576b"
             ],
             [
              0.6666666666666666,
              "#ed7953"
             ],
             [
              0.7777777777777778,
              "#fb9f3a"
             ],
             [
              0.8888888888888888,
              "#fdca26"
             ],
             [
              1,
              "#f0f921"
             ]
            ],
            "type": "surface"
           }
          ],
          "table": [
           {
            "cells": {
             "fill": {
              "color": "#EBF0F8"
             },
             "line": {
              "color": "white"
             }
            },
            "header": {
             "fill": {
              "color": "#C8D4E3"
             },
             "line": {
              "color": "white"
             }
            },
            "type": "table"
           }
          ]
         },
         "layout": {
          "annotationdefaults": {
           "arrowcolor": "#2a3f5f",
           "arrowhead": 0,
           "arrowwidth": 1
          },
          "autotypenumbers": "strict",
          "coloraxis": {
           "colorbar": {
            "outlinewidth": 0,
            "ticks": ""
           }
          },
          "colorscale": {
           "diverging": [
            [
             0,
             "#8e0152"
            ],
            [
             0.1,
             "#c51b7d"
            ],
            [
             0.2,
             "#de77ae"
            ],
            [
             0.3,
             "#f1b6da"
            ],
            [
             0.4,
             "#fde0ef"
            ],
            [
             0.5,
             "#f7f7f7"
            ],
            [
             0.6,
             "#e6f5d0"
            ],
            [
             0.7,
             "#b8e186"
            ],
            [
             0.8,
             "#7fbc41"
            ],
            [
             0.9,
             "#4d9221"
            ],
            [
             1,
             "#276419"
            ]
           ],
           "sequential": [
            [
             0,
             "#0d0887"
            ],
            [
             0.1111111111111111,
             "#46039f"
            ],
            [
             0.2222222222222222,
             "#7201a8"
            ],
            [
             0.3333333333333333,
             "#9c179e"
            ],
            [
             0.4444444444444444,
             "#bd3786"
            ],
            [
             0.5555555555555556,
             "#d8576b"
            ],
            [
             0.6666666666666666,
             "#ed7953"
            ],
            [
             0.7777777777777778,
             "#fb9f3a"
            ],
            [
             0.8888888888888888,
             "#fdca26"
            ],
            [
             1,
             "#f0f921"
            ]
           ],
           "sequentialminus": [
            [
             0,
             "#0d0887"
            ],
            [
             0.1111111111111111,
             "#46039f"
            ],
            [
             0.2222222222222222,
             "#7201a8"
            ],
            [
             0.3333333333333333,
             "#9c179e"
            ],
            [
             0.4444444444444444,
             "#bd3786"
            ],
            [
             0.5555555555555556,
             "#d8576b"
            ],
            [
             0.6666666666666666,
             "#ed7953"
            ],
            [
             0.7777777777777778,
             "#fb9f3a"
            ],
            [
             0.8888888888888888,
             "#fdca26"
            ],
            [
             1,
             "#f0f921"
            ]
           ]
          },
          "colorway": [
           "#636efa",
           "#EF553B",
           "#00cc96",
           "#ab63fa",
           "#FFA15A",
           "#19d3f3",
           "#FF6692",
           "#B6E880",
           "#FF97FF",
           "#FECB52"
          ],
          "font": {
           "color": "#2a3f5f"
          },
          "geo": {
           "bgcolor": "white",
           "lakecolor": "white",
           "landcolor": "#E5ECF6",
           "showlakes": true,
           "showland": true,
           "subunitcolor": "white"
          },
          "hoverlabel": {
           "align": "left"
          },
          "hovermode": "closest",
          "mapbox": {
           "style": "light"
          },
          "paper_bgcolor": "white",
          "plot_bgcolor": "#E5ECF6",
          "polar": {
           "angularaxis": {
            "gridcolor": "white",
            "linecolor": "white",
            "ticks": ""
           },
           "bgcolor": "#E5ECF6",
           "radialaxis": {
            "gridcolor": "white",
            "linecolor": "white",
            "ticks": ""
           }
          },
          "scene": {
           "xaxis": {
            "backgroundcolor": "#E5ECF6",
            "gridcolor": "white",
            "gridwidth": 2,
            "linecolor": "white",
            "showbackground": true,
            "ticks": "",
            "zerolinecolor": "white"
           },
           "yaxis": {
            "backgroundcolor": "#E5ECF6",
            "gridcolor": "white",
            "gridwidth": 2,
            "linecolor": "white",
            "showbackground": true,
            "ticks": "",
            "zerolinecolor": "white"
           },
           "zaxis": {
            "backgroundcolor": "#E5ECF6",
            "gridcolor": "white",
            "gridwidth": 2,
            "linecolor": "white",
            "showbackground": true,
            "ticks": "",
            "zerolinecolor": "white"
           }
          },
          "shapedefaults": {
           "line": {
            "color": "#2a3f5f"
           }
          },
          "ternary": {
           "aaxis": {
            "gridcolor": "white",
            "linecolor": "white",
            "ticks": ""
           },
           "baxis": {
            "gridcolor": "white",
            "linecolor": "white",
            "ticks": ""
           },
           "bgcolor": "#E5ECF6",
           "caxis": {
            "gridcolor": "white",
            "linecolor": "white",
            "ticks": ""
           }
          },
          "title": {
           "x": 0.05
          },
          "xaxis": {
           "automargin": true,
           "gridcolor": "white",
           "linecolor": "white",
           "ticks": "",
           "title": {
            "standoff": 15
           },
           "zerolinecolor": "white",
           "zerolinewidth": 2
          },
          "yaxis": {
           "automargin": true,
           "gridcolor": "white",
           "linecolor": "white",
           "ticks": "",
           "title": {
            "standoff": 15
           },
           "zerolinecolor": "white",
           "zerolinewidth": 2
          }
         }
        },
        "title": {
         "text": "Amount out vs Trade Number"
        },
        "xaxis": {
         "title": {
          "text": "Trade Number"
         }
        },
        "yaxis": {
         "title": {
          "text": "Amount out"
         }
        }
       }
      }
     },
     "metadata": {},
     "output_type": "display_data"
    }
   ],
   "source": [
    "usdc_repeats=[0.25,0.25,0.25,0.25]\n",
    "# We start with a zero fee pool \n",
    "pool = v4_gamma_hook_pool(parameters, is_zero_gee=True)\n",
    "\n",
    "trade_simulation_0_fee = simulate_trade_sequence(\n",
    "    pool,\n",
    "    usdc_repeats,\n",
    "    usdc_repeats,\n",
    "    parameters\n",
    ")\n",
    "\n",
    "fig = get_xy_fig(trade_simulation_0_fee, 'trade_number', 'amount_out', 'Amount out vs Trade Number', 'Trade Number', 'Amount out')\n",
    "fig.show()"
   ]
  },
  {
   "cell_type": "code",
   "execution_count": null,
   "metadata": {},
   "outputs": [],
   "source": [
    "\n",
    "# We start with a zero fee pool\n",
    "pool = UniswapV2Pool(parameters, is_zero_fee=True)\n",
    "\n",
    "trade_simulation_0_fee = simulate_trade_sequence(\n",
    "    pool,\n",
    "    arb_samples_run,\n",
    "    usdc_samples_run,\n",
    "    parameters\n",
    ")\n",
    "\n",
    "fig_combined = get_3_plots(trade_simulation_0_fee, f'Trade simulation:V2 Pool with 0% fee')\n",
    "fig_combined.show()\n"
   ]
  },
  {
   "cell_type": "code",
   "execution_count": null,
   "metadata": {},
   "outputs": [],
   "source": [
    "\n",
    "pool = UniswapV2Pool(parameters, is_zero_fee=False)\n",
    "\n",
    "trade_simulation_f_fee = simulate_trade_sequence(\n",
    "    pool,\n",
    "    arb_samples_run,\n",
    "    usdc_samples_run,\n",
    "    parameters\n",
    ")\n",
    "\n",
    "fig_combined = get_3_plots(trade_simulation_f_fee, f'Uni V2 with {parameters[\"fee_pct\"]*100}% fee')\n",
    "fig_combined.show()\n"
   ]
  },
  {
   "cell_type": "code",
   "execution_count": null,
   "metadata": {},
   "outputs": [],
   "source": [
    "\n",
    "pool = v4_gamma_hook_pool(parameters, is_zero_gee=True)\n",
    "\n",
    "trade_simulation_v4_0_gee = simulate_trade_sequence(\n",
    "    pool,\n",
    "    arb_samples_run,\n",
    "    usdc_samples_run,\n",
    "    parameters\n",
    ")\n",
    "\n",
    "fig_combined = get_3_plots(trade_simulation_v4_0_gee, f'V4 Gamma Hook with 0% g')\n",
    "fig_combined.show()\n"
   ]
  },
  {
   "cell_type": "code",
   "execution_count": null,
   "metadata": {},
   "outputs": [],
   "source": [
    "\n",
    "pool = v4_gamma_hook_pool(parameters, is_zero_gee=False)\n",
    "\n",
    "trade_simulation_v4_g_gee = simulate_trade_sequence(\n",
    "    pool,\n",
    "    arb_samples_run,\n",
    "    usdc_samples_run,\n",
    "    parameters\n",
    ")\n",
    "\n",
    "fig_combined = get_3_plots(trade_simulation_v4_g_gee, f'V4 Gamma Hook with {parameters[\"gamma_factor\"]*100}% Gee')\n",
    "fig_combined.show()\n"
   ]
  },
  {
   "cell_type": "code",
   "execution_count": null,
   "metadata": {},
   "outputs": [],
   "source": [
    "joint_df = pd.concat([\n",
    "    trade_simulation_0_fee, \n",
    "    trade_simulation_f_fee, \n",
    "    trade_simulation_v4_0_gee, \n",
    "    trade_simulation_v4_g_gee, \n",
    "    ])\n",
    "\n",
    "\n",
    "fig = get_xy_fig(joint_df, 'trade_number', 'price', 'Resulting Swap Prices (identical relative order sizes)', 'Trade Number', 'Price ARB ($)')\n",
    "fig.show()"
   ]
  },
  {
   "cell_type": "code",
   "execution_count": null,
   "metadata": {},
   "outputs": [],
   "source": [
    "fig = get_xy_fig(joint_df, 'trade_number', 'impermanent_loss', 'Trade Number vs Impermanent Loss', 'Trade Number', 'Impermanent Loss ($)')\n",
    "fig.show()"
   ]
  },
  {
   "cell_type": "code",
   "execution_count": null,
   "metadata": {},
   "outputs": [],
   "source": [
    "from utils.clean import run_simulation # This is the function that runs the simulation\n",
    "\n",
    "parameters = {\n",
    "        'num_trades_to_simulate': 20000, # Or use the desired number\n",
    "        'fee_pct': 0.003, # Using 30% fee for clear effect in plot ONLY AFFECT V2POOL with FEE\n",
    "        'initial_x': 100,  # 100 USDC\n",
    "        'initial_y': 100,   # 100 ARB (as starting point, 1 ARB worth 1 USDC for easy math and same scale visuals)\n",
    "        'gamma_factor': 0.3 # 30% gamma factor for clear effect in plot ONLY AFFECT V4 GAMMA POOL with GEE\n",
    "    }\n",
    "\n",
    "joint_df = run_simulation(parameters)\n",
    "\n",
    "fig = get_xy_fig(joint_df, 'trade_number', 'impermanent_loss', 'Trade Number vs Impermanent Loss', 'Trade Number', 'Impermanent Loss ($)')\n",
    "fig.show()"
   ]
  },
  {
   "cell_type": "code",
   "execution_count": null,
   "metadata": {},
   "outputs": [],
   "source": [
    "\n",
    "fig = get_xy_fig(joint_df, 'fee_pct', 'impermanent_loss_pct', f'Fee pct vs Impermanent Loss ({parameters[\"num_trades_to_simulate\"]} trades)', 'Fee pct', 'Impermanent Loss (%)')\n",
    "for trace in fig.data:\n",
    "    if hasattr(trace, 'marker') and trace.mode == 'markers':\n",
    "        trace.marker.opacity = 0.1 # Set desired transparency (e.g., 0.5 for 50%)\n",
    "\n",
    "fig.show()"
   ]
  },
  {
   "cell_type": "code",
   "execution_count": null,
   "metadata": {},
   "outputs": [],
   "source": [
    "\n",
    "# --- Simulation Parameters --- \n",
    "parameters = {\n",
    "    'num_trades_to_simulate': 10000, # Trades per simulation cycle\n",
    "    'fee_pct': 0.003,\n",
    "    'initial_x': 100,\n",
    "    'initial_y': 100,\n",
    "    'gamma_factor': 0.3\n",
    "}\n",
    "\n",
    "# --- Monte Carlo Setup ---\n",
    "num_runs = 100  # Number of simulation cycles to run EXPENSIVE! WARNING - MAY TAKE A WHILE TO RUN IF YOU SET THIS HIGH\n",
    "# monte_carlo_results_df = pd.DataFrame()\n",
    "monte_carlo_summary_list = []\n",
    "\n",
    "# --- Run Monte Carlo Simulation ---\n",
    "print(f\"Starting Monte Carlo simulation for {num_runs} runs...\")\n",
    "# Using tqdm for progress bar\n",
    "for i in range(num_runs):\n",
    "    # Run one simulation cycle and get the final states\n",
    "    final_states_df = run_simulation(parameters)\n",
    "    final_states_df['run_id'] = i\n",
    "\n",
    "    unique_pool_names = final_states_df['pool_name'].unique()\n",
    "\n",
    "    for pool_name in unique_pool_names:\n",
    "        pool_name_df = final_states_df[final_states_df['pool_name'] == pool_name]\n",
    "        total_fee_pct = pool_name_df['fee_pct'].sum()\n",
    "        average_fee_pct = total_fee_pct / len(pool_name_df)\n",
    "        median_fee_pct = pool_name_df['fee_pct'].median()\n",
    "\n",
    "        final_states_new_row = pool_name_df.iloc[-1].copy()\n",
    "        final_states_new_row['total_fee_pct'] = total_fee_pct\n",
    "        final_states_new_row['average_fee_pct'] = average_fee_pct   \n",
    "        final_states_new_row['median_fee_pct'] = median_fee_pct\n",
    "\n",
    "        # Append results if the simulation was successful\n",
    "        monte_carlo_summary_list.append(final_states_new_row)\n",
    "\n",
    "\n",
    "\n",
    "print(\"Monte Carlo simulation finished.\")\n",
    "\n",
    "monte_carlo_results_df = pd.DataFrame(monte_carlo_summary_list)\n",
    "\n"
   ]
  },
  {
   "cell_type": "code",
   "execution_count": null,
   "metadata": {},
   "outputs": [],
   "source": [
    "\n",
    "pool_count = monte_carlo_results_df['pool_name'].nunique()\n",
    "num_runs = int(monte_carlo_results_df.shape[0] / pool_count)\n",
    "trade_count = max(monte_carlo_results_df['trade_number'])+1\n",
    "fig = get_xy_fig(monte_carlo_results_df, 'average_fee_pct', 'impermanent_loss_pct', f'Monte Carlo Simulation Results - {num_runs} runs - each run {trade_count} trades', 'Average Fee pct', 'Impermanent Loss (%)')\n",
    "\n",
    "fig.show()"
   ]
  }
 ],
 "metadata": {
  "kernelspec": {
   "display_name": "v4-hook",
   "language": "python",
   "name": "python3"
  },
  "language_info": {
   "codemirror_mode": {
    "name": "ipython",
    "version": 3
   },
   "file_extension": ".py",
   "mimetype": "text/x-python",
   "name": "python",
   "nbconvert_exporter": "python",
   "pygments_lexer": "ipython3",
   "version": "3.12.9"
  }
 },
 "nbformat": 4,
 "nbformat_minor": 2
}
